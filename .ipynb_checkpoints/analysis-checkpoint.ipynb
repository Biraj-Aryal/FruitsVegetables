{
 "cells": [
  {
   "cell_type": "code",
   "execution_count": 36,
   "id": "6fdd3a93",
   "metadata": {},
   "outputs": [
    {
     "name": "stdout",
     "output_type": "stream",
     "text": [
      "/Users/birajaryal/virtual_workspace/vegetables\n"
     ]
    },
    {
     "ename": "FileNotFoundError",
     "evalue": "[Errno 2] No such file or directory: 'daily'",
     "output_type": "error",
     "traceback": [
      "\u001b[0;31m---------------------------------------------------------------------------\u001b[0m",
      "\u001b[0;31mFileNotFoundError\u001b[0m                         Traceback (most recent call last)",
      "\u001b[0;32m/var/folders/26/cykxd5qn10b_fkbp0x91wjvh0000gn/T/ipykernel_13421/2269308785.py\u001b[0m in \u001b[0;36m<module>\u001b[0;34m\u001b[0m\n\u001b[1;32m     10\u001b[0m \u001b[0mhome\u001b[0m \u001b[0;34m=\u001b[0m \u001b[0;34m'/Users/birajaryal/virtual_workspace/vegetables'\u001b[0m\u001b[0;34m\u001b[0m\u001b[0;34m\u001b[0m\u001b[0m\n\u001b[1;32m     11\u001b[0m \u001b[0mprint\u001b[0m\u001b[0;34m(\u001b[0m\u001b[0mhome\u001b[0m\u001b[0;34m)\u001b[0m\u001b[0;34m\u001b[0m\u001b[0;34m\u001b[0m\u001b[0m\n\u001b[0;32m---> 12\u001b[0;31m \u001b[0mos\u001b[0m\u001b[0;34m.\u001b[0m\u001b[0mchdir\u001b[0m\u001b[0;34m(\u001b[0m\u001b[0;34m'daily'\u001b[0m\u001b[0;34m)\u001b[0m\u001b[0;34m\u001b[0m\u001b[0;34m\u001b[0m\u001b[0m\n\u001b[0m\u001b[1;32m     13\u001b[0m \u001b[0mtoday\u001b[0m \u001b[0;34m=\u001b[0m \u001b[0mdatetime\u001b[0m\u001b[0;34m.\u001b[0m\u001b[0mdate\u001b[0m\u001b[0;34m.\u001b[0m\u001b[0mtoday\u001b[0m\u001b[0;34m(\u001b[0m\u001b[0;34m)\u001b[0m\u001b[0;34m.\u001b[0m\u001b[0mstrftime\u001b[0m\u001b[0;34m(\u001b[0m\u001b[0;34m\"%Y-%m-%d\"\u001b[0m\u001b[0;34m)\u001b[0m\u001b[0;34m\u001b[0m\u001b[0;34m\u001b[0m\u001b[0m\n\u001b[1;32m     14\u001b[0m \u001b[0myesterday\u001b[0m \u001b[0;34m=\u001b[0m \u001b[0;34m(\u001b[0m\u001b[0mdatetime\u001b[0m\u001b[0;34m.\u001b[0m\u001b[0mdate\u001b[0m\u001b[0;34m.\u001b[0m\u001b[0mtoday\u001b[0m\u001b[0;34m(\u001b[0m\u001b[0;34m)\u001b[0m \u001b[0;34m-\u001b[0m \u001b[0mdatetime\u001b[0m\u001b[0;34m.\u001b[0m\u001b[0mtimedelta\u001b[0m\u001b[0;34m(\u001b[0m\u001b[0;36m1\u001b[0m\u001b[0;34m)\u001b[0m\u001b[0;34m)\u001b[0m\u001b[0;34m.\u001b[0m\u001b[0mstrftime\u001b[0m\u001b[0;34m(\u001b[0m\u001b[0;34m\"%Y-%m-%d\"\u001b[0m\u001b[0;34m)\u001b[0m\u001b[0;34m\u001b[0m\u001b[0;34m\u001b[0m\u001b[0m\n",
      "\u001b[0;31mFileNotFoundError\u001b[0m: [Errno 2] No such file or directory: 'daily'"
     ]
    }
   ],
   "source": [
    "import pandas as pd\n",
    "from pandas.core.indexes.base import Index\n",
    "import matplotlib\n",
    "from tabulate import tabulate\n",
    "import os\n",
    "import datetime\n",
    "from xlsxwriter import Workbook\n",
    "\n",
    "#location of all essential csv files\n",
    "home = '/Users/birajaryal/virtual_workspace/vegetables'\n",
    "os.chdir(home)\n",
    "print(home)\n",
    "os.chdir('daily')\n",
    "today = datetime.date.today().strftime(\"%Y-%m-%d\")\n",
    "yesterday = (datetime.date.today() - datetime.timedelta(1)).strftime(\"%Y-%m-%d\")\n",
    "today_file = f'kalimati_{today}.csv'\n",
    "yesterday_file = f'kalimati_{yesterday}.csv'\n",
    "today_df = pd.read_csv(today_file)\n",
    "yesterday_df = pd.read_csv(yesterday_file)\n",
    "\n",
    "# removing nepali name column from the dataframe: ADD THIS COLUMN LATER along with others below when needed\n",
    "nepali_name = list(today_df['Nepali Name'])\n",
    "maximum = list(today_df['Maximum Price (Rs.)'])  \n",
    "minimum = list(today_df['Minimum Price (Rs.)']) \n",
    "# del today_df['Nepali Name']\n",
    "del today_df['Minimum Price (Rs.)']\n",
    "del today_df['Maximum Price (Rs.)']\n",
    "\n",
    "yesterday_nepali_name = list(yesterday_df['Nepali Name'])\n",
    "yesterday_maximum = list(yesterday_df['Maximum Price (Rs.)'])  \n",
    "yesterday_minimum = list(yesterday_df['Minimum Price (Rs.)']) \n",
    "del yesterday_df['Nepali Name']\n",
    "del yesterday_df['Minimum Price (Rs.)']\n",
    "del yesterday_df['Maximum Price (Rs.)']\n",
    "\n",
    "\n",
    "# Total Number of vegetables today\n",
    "vegetable_count = today_df.shape[0]\n",
    "\n",
    "# Average Price of vegetables/fruits per kg/Pc/Doz [Avergae Kalimati Price]---VISUALIZATION REMAINING\n",
    "today_df['Average Kalimati Price (Rs.)'] = today_df['Average Price (Rs.)'].mean() # plot a single graph of this comparing with the one below\n",
    "yesterday_df['Average Kalimati Price (Rs.)'] = yesterday_df['Average Price (Rs.)'].mean() # plot a single graph of this comparing with the one above\n",
    "\n",
    "\n",
    "                                        # PART 1: Intraday\n",
    "# Relatively Cheap\n",
    "below_avg_price = today_df['Average Price (Rs.)'] < today_df['Average Kalimati Price (Rs.)']\n",
    "cheap_df = today_df[below_avg_price].sort_values('Average Price (Rs.)')\n",
    "cheap_df['Less than Average Kalimati Price by (Rs.)'] = round(cheap_df['Average Kalimati Price (Rs.)'] - cheap_df['Average Price (Rs.)'], 2)\n",
    "del cheap_df['Average Kalimati Price (Rs.)']\n",
    "# print(cheap_df)\n",
    "\n",
    "\n",
    "# Relatviely Expensive\n",
    "above_avg_price = today_df['Average Price (Rs.)'] > today_df['Average Kalimati Price (Rs.)']\n",
    "expensive_df = today_df[above_avg_price].sort_values('Average Price (Rs.)', ascending=False)\n",
    "expensive_df['More than Average Kalimati Price by (Rs.)'] = round(expensive_df['Average Price (Rs.)'] - expensive_df['Average Kalimati Price (Rs.)'], 2)\n",
    "del expensive_df['Average Kalimati Price (Rs.)']\n",
    "# print(expensive_df)\n",
    "\n",
    "\n",
    "\n",
    "                                    # PART 2: Interday\n",
    "with_yesterday_df = pd.merge(today_df, yesterday_df, on='English Name')\n",
    "del with_yesterday_df['Unit_x']\n",
    "del with_yesterday_df['Unit_y']\n",
    "with_yesterday_df['Change in Average Price (Rs.)'] = with_yesterday_df['Average Price (Rs.)_x'] - with_yesterday_df['Average Price (Rs.)_y']\n",
    "with_yesterday_df['Change in Average Price (%)'] =  round(with_yesterday_df['Change in Average Price (Rs.)']/with_yesterday_df['Average Price (Rs.)_y'] * 100, 2)\n",
    "del with_yesterday_df['Average Kalimati Price (Rs.)_x']\n",
    "del with_yesterday_df['Average Kalimati Price (Rs.)_y']\n",
    "\n",
    "\n",
    "# All Positive Change in Price\n",
    "positive_change = with_yesterday_df['Average Price (Rs.)_x'] > with_yesterday_df['Average Price (Rs.)_y']\n",
    "top_positive_change = with_yesterday_df[positive_change].sort_values('Change in Average Price (%)', ascending=False)\n",
    "top_positive_change = top_positive_change.rename(columns={'Average Price (Rs.)_x': \"Average Price (Rs.)\"})\n",
    "del top_positive_change['Average Price (Rs.)_y']\n",
    "# print(top_positive_change)\n",
    "\n",
    "\n",
    "# All Negative Change in Price\n",
    "negative_change = with_yesterday_df['Average Price (Rs.)_x'] < with_yesterday_df['Average Price (Rs.)_y']\n",
    "top_negative_change = with_yesterday_df[negative_change].sort_values('Change in Average Price (%)')\n",
    "top_negative_change = top_negative_change.rename(columns={'Average Price (Rs.)_x': \"Average Price (Rs.)\"})\n",
    "del top_negative_change['Average Price (Rs.)_y']\n",
    "# print(top_negative_change)\n",
    "\n",
    "\n",
    "# Change in Average kalimati Price - - CONSOLE ONLY\n",
    "change_in_avg_kalimati_price = today_df['Average Price (Rs.)'].mean() - yesterday_df['Average Price (Rs.)'].mean()\n",
    "percent_change = change_in_avg_kalimati_price.item()/yesterday_df['Average Price (Rs.)'].mean()*100\n",
    "print(\"Today's Average Kalimati Price is Rs.\", round(today_df['Average Price (Rs.)'].mean(), 2))\n",
    "print(\"Last day's Average Kalimati Price was Rs.\",round(yesterday_df['Average Price (Rs.)'].mean(), 2))\n",
    "if change_in_avg_kalimati_price.item() < 0:  # although not needed here, .item() converts numpy type to python type\n",
    "    print('Average kalimati Price decreased by Rs.', str(round(change_in_avg_kalimati_price, 2)))\n",
    "    print(\"Average kalimati Price decreased by: \", str(round(percent_change,2)), '%')\n",
    "elif change_in_avg_kalimati_price.item() > 0:  # although not needed here, .item() converts numpy type to python type\n",
    "    print('Average kalimati Price increased by Rs.', str(round(change_in_avg_kalimati_price, 2)))\n",
    "    print(\"Average kalimati Price increased by:\", str(round(percent_change,2)), '%')\n",
    "\n",
    "\n",
    "\n",
    "\n",
    "\n",
    "\n",
    "# Writing to an excel file:\n",
    "os.chdir(home)\n",
    "os.chdir('daily analysis')\n",
    "\n",
    "writer = pd.ExcelWriter(f'{today}.xlsx', engine='xlsxwriter')\n",
    "workbook  = Workbook(f'{today}.xlsx')\n",
    "\n",
    "worksheet1 = 'Items costing<Average Price'\n",
    "worksheet2 = 'Items costing>Average Price'\n",
    "worksheet3 = 'Change in Price of items'\n",
    "cheap_df.to_excel(writer, sheet_name=worksheet1, index=None)\n",
    "expensive_df.to_excel(writer, sheet_name=worksheet2, index=None)\n",
    "top_positive_change.to_excel(writer, sheet_name=worksheet3, index=None)\n",
    "top_negative_change.to_excel(writer, sheet_name=worksheet3, index=None)\n",
    "writer.save()\n",
    "\n",
    "# Test Plot\n",
    "# # print(tabulate(cheap_df, headers='keys', tablefmt='psql'))"
   ]
  },
  {
   "cell_type": "code",
   "execution_count": null,
   "id": "4a27d8af",
   "metadata": {},
   "outputs": [],
   "source": []
  },
  {
   "cell_type": "code",
   "execution_count": 35,
   "id": "e3bd95a1",
   "metadata": {},
   "outputs": [
    {
     "ename": "KeyError",
     "evalue": "'Maximum Price (Rs.)'",
     "output_type": "error",
     "traceback": [
      "\u001b[0;31m---------------------------------------------------------------------------\u001b[0m",
      "\u001b[0;31mKeyError\u001b[0m                                  Traceback (most recent call last)",
      "\u001b[0;32m~/virtual_workspace/lib/python3.8/site-packages/pandas/core/indexes/base.py\u001b[0m in \u001b[0;36mget_loc\u001b[0;34m(self, key, method, tolerance)\u001b[0m\n\u001b[1;32m   3360\u001b[0m             \u001b[0;32mtry\u001b[0m\u001b[0;34m:\u001b[0m\u001b[0;34m\u001b[0m\u001b[0;34m\u001b[0m\u001b[0m\n\u001b[0;32m-> 3361\u001b[0;31m                 \u001b[0;32mreturn\u001b[0m \u001b[0mself\u001b[0m\u001b[0;34m.\u001b[0m\u001b[0m_engine\u001b[0m\u001b[0;34m.\u001b[0m\u001b[0mget_loc\u001b[0m\u001b[0;34m(\u001b[0m\u001b[0mcasted_key\u001b[0m\u001b[0;34m)\u001b[0m\u001b[0;34m\u001b[0m\u001b[0;34m\u001b[0m\u001b[0m\n\u001b[0m\u001b[1;32m   3362\u001b[0m             \u001b[0;32mexcept\u001b[0m \u001b[0mKeyError\u001b[0m \u001b[0;32mas\u001b[0m \u001b[0merr\u001b[0m\u001b[0;34m:\u001b[0m\u001b[0;34m\u001b[0m\u001b[0;34m\u001b[0m\u001b[0m\n",
      "\u001b[0;32m~/virtual_workspace/lib/python3.8/site-packages/pandas/_libs/index.pyx\u001b[0m in \u001b[0;36mpandas._libs.index.IndexEngine.get_loc\u001b[0;34m()\u001b[0m\n",
      "\u001b[0;32m~/virtual_workspace/lib/python3.8/site-packages/pandas/_libs/index.pyx\u001b[0m in \u001b[0;36mpandas._libs.index.IndexEngine.get_loc\u001b[0;34m()\u001b[0m\n",
      "\u001b[0;32mpandas/_libs/hashtable_class_helper.pxi\u001b[0m in \u001b[0;36mpandas._libs.hashtable.PyObjectHashTable.get_item\u001b[0;34m()\u001b[0m\n",
      "\u001b[0;32mpandas/_libs/hashtable_class_helper.pxi\u001b[0m in \u001b[0;36mpandas._libs.hashtable.PyObjectHashTable.get_item\u001b[0;34m()\u001b[0m\n",
      "\u001b[0;31mKeyError\u001b[0m: 'Maximum Price (Rs.)'",
      "\nThe above exception was the direct cause of the following exception:\n",
      "\u001b[0;31mKeyError\u001b[0m                                  Traceback (most recent call last)",
      "\u001b[0;32m/var/folders/26/cykxd5qn10b_fkbp0x91wjvh0000gn/T/ipykernel_13421/316761280.py\u001b[0m in \u001b[0;36m<module>\u001b[0;34m\u001b[0m\n\u001b[1;32m      1\u001b[0m \u001b[0;31m# removing nepali name column from the dataframe: ADD THIS COLUMN LATER along with others below when needed\u001b[0m\u001b[0;34m\u001b[0m\u001b[0;34m\u001b[0m\u001b[0;34m\u001b[0m\u001b[0m\n\u001b[1;32m      2\u001b[0m \u001b[0mnepali_name\u001b[0m \u001b[0;34m=\u001b[0m \u001b[0mlist\u001b[0m\u001b[0;34m(\u001b[0m\u001b[0mtoday_df\u001b[0m\u001b[0;34m[\u001b[0m\u001b[0;34m'Nepali Name'\u001b[0m\u001b[0;34m]\u001b[0m\u001b[0;34m)\u001b[0m\u001b[0;34m\u001b[0m\u001b[0;34m\u001b[0m\u001b[0m\n\u001b[0;32m----> 3\u001b[0;31m \u001b[0mmaximum\u001b[0m \u001b[0;34m=\u001b[0m \u001b[0mlist\u001b[0m\u001b[0;34m(\u001b[0m\u001b[0mtoday_df\u001b[0m\u001b[0;34m[\u001b[0m\u001b[0;34m'Maximum Price (Rs.)'\u001b[0m\u001b[0;34m]\u001b[0m\u001b[0;34m)\u001b[0m\u001b[0;34m\u001b[0m\u001b[0;34m\u001b[0m\u001b[0m\n\u001b[0m\u001b[1;32m      4\u001b[0m \u001b[0mminimum\u001b[0m \u001b[0;34m=\u001b[0m \u001b[0mlist\u001b[0m\u001b[0;34m(\u001b[0m\u001b[0mtoday_df\u001b[0m\u001b[0;34m[\u001b[0m\u001b[0;34m'Minimum Price (Rs.)'\u001b[0m\u001b[0;34m]\u001b[0m\u001b[0;34m)\u001b[0m\u001b[0;34m\u001b[0m\u001b[0;34m\u001b[0m\u001b[0m\n\u001b[1;32m      5\u001b[0m \u001b[0;31m# del today_df['Nepali Name']\u001b[0m\u001b[0;34m\u001b[0m\u001b[0;34m\u001b[0m\u001b[0;34m\u001b[0m\u001b[0m\n",
      "\u001b[0;32m~/virtual_workspace/lib/python3.8/site-packages/pandas/core/frame.py\u001b[0m in \u001b[0;36m__getitem__\u001b[0;34m(self, key)\u001b[0m\n\u001b[1;32m   3456\u001b[0m             \u001b[0;32mif\u001b[0m \u001b[0mself\u001b[0m\u001b[0;34m.\u001b[0m\u001b[0mcolumns\u001b[0m\u001b[0;34m.\u001b[0m\u001b[0mnlevels\u001b[0m \u001b[0;34m>\u001b[0m \u001b[0;36m1\u001b[0m\u001b[0;34m:\u001b[0m\u001b[0;34m\u001b[0m\u001b[0;34m\u001b[0m\u001b[0m\n\u001b[1;32m   3457\u001b[0m                 \u001b[0;32mreturn\u001b[0m \u001b[0mself\u001b[0m\u001b[0;34m.\u001b[0m\u001b[0m_getitem_multilevel\u001b[0m\u001b[0;34m(\u001b[0m\u001b[0mkey\u001b[0m\u001b[0;34m)\u001b[0m\u001b[0;34m\u001b[0m\u001b[0;34m\u001b[0m\u001b[0m\n\u001b[0;32m-> 3458\u001b[0;31m             \u001b[0mindexer\u001b[0m \u001b[0;34m=\u001b[0m \u001b[0mself\u001b[0m\u001b[0;34m.\u001b[0m\u001b[0mcolumns\u001b[0m\u001b[0;34m.\u001b[0m\u001b[0mget_loc\u001b[0m\u001b[0;34m(\u001b[0m\u001b[0mkey\u001b[0m\u001b[0;34m)\u001b[0m\u001b[0;34m\u001b[0m\u001b[0;34m\u001b[0m\u001b[0m\n\u001b[0m\u001b[1;32m   3459\u001b[0m             \u001b[0;32mif\u001b[0m \u001b[0mis_integer\u001b[0m\u001b[0;34m(\u001b[0m\u001b[0mindexer\u001b[0m\u001b[0;34m)\u001b[0m\u001b[0;34m:\u001b[0m\u001b[0;34m\u001b[0m\u001b[0;34m\u001b[0m\u001b[0m\n\u001b[1;32m   3460\u001b[0m                 \u001b[0mindexer\u001b[0m \u001b[0;34m=\u001b[0m \u001b[0;34m[\u001b[0m\u001b[0mindexer\u001b[0m\u001b[0;34m]\u001b[0m\u001b[0;34m\u001b[0m\u001b[0;34m\u001b[0m\u001b[0m\n",
      "\u001b[0;32m~/virtual_workspace/lib/python3.8/site-packages/pandas/core/indexes/base.py\u001b[0m in \u001b[0;36mget_loc\u001b[0;34m(self, key, method, tolerance)\u001b[0m\n\u001b[1;32m   3361\u001b[0m                 \u001b[0;32mreturn\u001b[0m \u001b[0mself\u001b[0m\u001b[0;34m.\u001b[0m\u001b[0m_engine\u001b[0m\u001b[0;34m.\u001b[0m\u001b[0mget_loc\u001b[0m\u001b[0;34m(\u001b[0m\u001b[0mcasted_key\u001b[0m\u001b[0;34m)\u001b[0m\u001b[0;34m\u001b[0m\u001b[0;34m\u001b[0m\u001b[0m\n\u001b[1;32m   3362\u001b[0m             \u001b[0;32mexcept\u001b[0m \u001b[0mKeyError\u001b[0m \u001b[0;32mas\u001b[0m \u001b[0merr\u001b[0m\u001b[0;34m:\u001b[0m\u001b[0;34m\u001b[0m\u001b[0;34m\u001b[0m\u001b[0m\n\u001b[0;32m-> 3363\u001b[0;31m                 \u001b[0;32mraise\u001b[0m \u001b[0mKeyError\u001b[0m\u001b[0;34m(\u001b[0m\u001b[0mkey\u001b[0m\u001b[0;34m)\u001b[0m \u001b[0;32mfrom\u001b[0m \u001b[0merr\u001b[0m\u001b[0;34m\u001b[0m\u001b[0;34m\u001b[0m\u001b[0m\n\u001b[0m\u001b[1;32m   3364\u001b[0m \u001b[0;34m\u001b[0m\u001b[0m\n\u001b[1;32m   3365\u001b[0m         \u001b[0;32mif\u001b[0m \u001b[0mis_scalar\u001b[0m\u001b[0;34m(\u001b[0m\u001b[0mkey\u001b[0m\u001b[0;34m)\u001b[0m \u001b[0;32mand\u001b[0m \u001b[0misna\u001b[0m\u001b[0;34m(\u001b[0m\u001b[0mkey\u001b[0m\u001b[0;34m)\u001b[0m \u001b[0;32mand\u001b[0m \u001b[0;32mnot\u001b[0m \u001b[0mself\u001b[0m\u001b[0;34m.\u001b[0m\u001b[0mhasnans\u001b[0m\u001b[0;34m:\u001b[0m\u001b[0;34m\u001b[0m\u001b[0;34m\u001b[0m\u001b[0m\n",
      "\u001b[0;31mKeyError\u001b[0m: 'Maximum Price (Rs.)'"
     ]
    }
   ],
   "source": []
  },
  {
   "cell_type": "code",
   "execution_count": 15,
   "id": "fb681b15",
   "metadata": {},
   "outputs": [],
   "source": []
  },
  {
   "cell_type": "code",
   "execution_count": 16,
   "id": "44a6308b",
   "metadata": {},
   "outputs": [],
   "source": []
  },
  {
   "cell_type": "code",
   "execution_count": 17,
   "id": "736b400c",
   "metadata": {},
   "outputs": [],
   "source": []
  },
  {
   "cell_type": "code",
   "execution_count": 18,
   "id": "0aaf3506",
   "metadata": {
    "scrolled": false
   },
   "outputs": [
    {
     "data": {
      "text/plain": [
       "<AxesSubplot:>"
      ]
     },
     "execution_count": 18,
     "metadata": {},
     "output_type": "execute_result"
    },
    {
     "data": {
      "image/png": "[encoded data removed]",
      "text/plain": [
       "<Figure size 432x288 with 1 Axes>"
      ]
     },
     "metadata": {
      "needs_background": "light"
     },
     "output_type": "display_data"
    }
   ],
   "source": []
  },
  {
   "cell_type": "code",
   "execution_count": null,
   "id": "e9b7041a",
   "metadata": {},
   "outputs": [],
   "source": []
  },
  {
   "cell_type": "code",
   "execution_count": null,
   "id": "92d1ebd3",
   "metadata": {},
   "outputs": [],
   "source": []
  },
  {
   "cell_type": "code",
   "execution_count": null,
   "id": "775f6229",
   "metadata": {},
   "outputs": [],
   "source": []
  }
 ],
 "metadata": {
  "kernelspec": {
   "display_name": "Python 3 (ipykernel)",
   "language": "python",
   "name": "python3"
  },
  "language_info": {
   "codemirror_mode": {
    "name": "ipython",
    "version": 3
   },
   "file_extension": ".py",
   "mimetype": "text/x-python",
   "name": "python",
   "nbconvert_exporter": "python",
   "pygments_lexer": "ipython3",
   "version": "3.8.12"
  }
 },
 "nbformat": 4,
 "nbformat_minor": 5
}
