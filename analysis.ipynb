{
 "cells": [
  {
   "cell_type": "code",
   "execution_count": 78,
   "id": "6fdd3a93",
   "metadata": {},
   "outputs": [
    {
     "name": "stdout",
     "output_type": "stream",
     "text": [
      "/Users/birajaryal/virtual_workspace/vegetables\n",
      "Today's Average Kalimati Price is Rs. 146.9\n",
      "Last day's Average Kalimati Price was Rs. 135.39\n",
      "Average kalimati Price increased by Rs. 11.51\n",
      "Average kalimati Price increased by: 8.5 %\n"
     ]
    },
    {
     "data": {
      "application/vnd.plotly.v1+json": {
       "config": {
        "plotlyServerURL": "https://plot.ly"
       },
       "data": [
        {
         "alignmentgroup": "True",
         "bingroup": "x",
         "hovertemplate": "English Name=Apple(Fuji)<br>Average Price (Rs.)=%{x}<br>count=%{y}<extra></extra>",
         "legendgroup": "Apple(Fuji)",
         "marker": {
          "color": "#636efa",
          "pattern": {
           "shape": ""
          }
         },
         "name": "Apple(Fuji)",
         "offsetgroup": "Apple(Fuji)",
         "orientation": "v",
         "showlegend": true,
         "type": "histogram",
         "x": [
          195
         ],
         "xaxis": "x",
         "yaxis": "y"
        },
        {
         "alignmentgroup": "True",
         "bingroup": "x",
         "hovertemplate": "English Name=Apple(Jholey)<br>Average Price (Rs.)=%{x}<br>count=%{y}<extra></extra>",
         "legendgroup": "Apple(Jholey)",
         "marker": {
          "color": "#EF553B",
          "pattern": {
           "shape": ""
          }
         },
         "name": "Apple(Jholey)",
         "offsetgroup": "Apple(Jholey)",
         "orientation": "v",
         "showlegend": true,
         "type": "histogram",
         "x": [
          195
         ],
         "xaxis": "x",
         "yaxis": "y"
        },
        {
         "alignmentgroup": "True",
         "bingroup": "x",
         "hovertemplate": "English Name=Arum<br>Average Price (Rs.)=%{x}<br>count=%{y}<extra></extra>",
         "legendgroup": "Arum",
         "marker": {
          "color": "#00cc96",
          "pattern": {
           "shape": ""
          }
         },
         "name": "Arum",
         "offsetgroup": "Arum",
         "orientation": "v",
         "showlegend": true,
         "type": "histogram",
         "x": [
          45
         ],
         "xaxis": "x",
         "yaxis": "y"
        },
        {
         "alignmentgroup": "True",
         "bingroup": "x",
         "hovertemplate": "English Name=Asparagus<br>Average Price (Rs.)=%{x}<br>count=%{y}<extra></extra>",
         "legendgroup": "Asparagus",
         "marker": {
          "color": "#ab63fa",
          "pattern": {
           "shape": ""
          }
         },
         "name": "Asparagus",
         "offsetgroup": "Asparagus",
         "orientation": "v",
         "showlegend": true,
         "type": "histogram",
         "x": [
          750
         ],
         "xaxis": "x",
         "yaxis": "y"
        },
        {
         "alignmentgroup": "True",
         "bingroup": "x",
         "hovertemplate": "English Name=Bamboo Shoot<br>Average Price (Rs.)=%{x}<br>count=%{y}<extra></extra>",
         "legendgroup": "Bamboo Shoot",
         "marker": {
          "color": "#FFA15A",
          "pattern": {
           "shape": ""
          }
         },
         "name": "Bamboo Shoot",
         "offsetgroup": "Bamboo Shoot",
         "orientation": "v",
         "showlegend": true,
         "type": "histogram",
         "x": [
          95
         ],
         "xaxis": "x",
         "yaxis": "y"
        },
        {
         "alignmentgroup": "True",
         "bingroup": "x",
         "hovertemplate": "English Name=Banana<br>Average Price (Rs.)=%{x}<br>count=%{y}<extra></extra>",
         "legendgroup": "Banana",
         "marker": {
          "color": "#19d3f3",
          "pattern": {
           "shape": ""
          }
         },
         "name": "Banana",
         "offsetgroup": "Banana",
         "orientation": "v",
         "showlegend": true,
         "type": "histogram",
         "x": [
          105
         ],
         "xaxis": "x",
         "yaxis": "y"
        },
        {
         "alignmentgroup": "True",
         "bingroup": "x",
         "hovertemplate": "English Name=Bitter Gourd<br>Average Price (Rs.)=%{x}<br>count=%{y}<extra></extra>",
         "legendgroup": "Bitter Gourd",
         "marker": {
          "color": "#FF6692",
          "pattern": {
           "shape": ""
          }
         },
         "name": "Bitter Gourd",
         "offsetgroup": "Bitter Gourd",
         "orientation": "v",
         "showlegend": true,
         "type": "histogram",
         "x": [
          65
         ],
         "xaxis": "x",
         "yaxis": "y"
        },
        {
         "alignmentgroup": "True",
         "bingroup": "x",
         "hovertemplate": "English Name=Bottle Gourd<br>Average Price (Rs.)=%{x}<br>count=%{y}<extra></extra>",
         "legendgroup": "Bottle Gourd",
         "marker": {
          "color": "#B6E880",
          "pattern": {
           "shape": ""
          }
         },
         "name": "Bottle Gourd",
         "offsetgroup": "Bottle Gourd",
         "orientation": "v",
         "showlegend": true,
         "type": "histogram",
         "x": [
          45
         ],
         "xaxis": "x",
         "yaxis": "y"
        },
        {
         "alignmentgroup": "True",
         "bingroup": "x",
         "hovertemplate": "English Name=Brd Leaf Mustard<br>Average Price (Rs.)=%{x}<br>count=%{y}<extra></extra>",
         "legendgroup": "Brd Leaf Mustard",
         "marker": {
          "color": "#FF97FF",
          "pattern": {
           "shape": ""
          }
         },
         "name": "Brd Leaf Mustard",
         "offsetgroup": "Brd Leaf Mustard",
         "orientation": "v",
         "showlegend": true,
         "type": "histogram",
         "x": [
          190
         ],
         "xaxis": "x",
         "yaxis": "y"
        },
        {
         "alignmentgroup": "True",
         "bingroup": "x",
         "hovertemplate": "English Name=Brinjal Long<br>Average Price (Rs.)=%{x}<br>count=%{y}<extra></extra>",
         "legendgroup": "Brinjal Long",
         "marker": {
          "color": "#FECB52",
          "pattern": {
           "shape": ""
          }
         },
         "name": "Brinjal Long",
         "offsetgroup": "Brinjal Long",
         "orientation": "v",
         "showlegend": true,
         "type": "histogram",
         "x": [
          35
         ],
         "xaxis": "x",
         "yaxis": "y"
        },
        {
         "alignmentgroup": "True",
         "bingroup": "x",
         "hovertemplate": "English Name=Brinjal Round<br>Average Price (Rs.)=%{x}<br>count=%{y}<extra></extra>",
         "legendgroup": "Brinjal Round",
         "marker": {
          "color": "#636efa",
          "pattern": {
           "shape": ""
          }
         },
         "name": "Brinjal Round",
         "offsetgroup": "Brinjal Round",
         "orientation": "v",
         "showlegend": true,
         "type": "histogram",
         "x": [
          65
         ],
         "xaxis": "x",
         "yaxis": "y"
        },
        {
         "alignmentgroup": "True",
         "bingroup": "x",
         "hovertemplate": "English Name=Brocauli<br>Average Price (Rs.)=%{x}<br>count=%{y}<extra></extra>",
         "legendgroup": "Brocauli",
         "marker": {
          "color": "#EF553B",
          "pattern": {
           "shape": ""
          }
         },
         "name": "Brocauli",
         "offsetgroup": "Brocauli",
         "orientation": "v",
         "showlegend": true,
         "type": "histogram",
         "x": [
          225
         ],
         "xaxis": "x",
         "yaxis": "y"
        },
        {
         "alignmentgroup": "True",
         "bingroup": "x",
         "hovertemplate": "English Name=Cabbage(Local)<br>Average Price (Rs.)=%{x}<br>count=%{y}<extra></extra>",
         "legendgroup": "Cabbage(Local)",
         "marker": {
          "color": "#00cc96",
          "pattern": {
           "shape": ""
          }
         },
         "name": "Cabbage(Local)",
         "offsetgroup": "Cabbage(Local)",
         "orientation": "v",
         "showlegend": true,
         "type": "histogram",
         "x": [
          40
         ],
         "xaxis": "x",
         "yaxis": "y"
        },
        {
         "alignmentgroup": "True",
         "bingroup": "x",
         "hovertemplate": "English Name=Capsicum<br>Average Price (Rs.)=%{x}<br>count=%{y}<extra></extra>",
         "legendgroup": "Capsicum",
         "marker": {
          "color": "#ab63fa",
          "pattern": {
           "shape": ""
          }
         },
         "name": "Capsicum",
         "offsetgroup": "Capsicum",
         "orientation": "v",
         "showlegend": true,
         "type": "histogram",
         "x": [
          110
         ],
         "xaxis": "x",
         "yaxis": "y"
        },
        {
         "alignmentgroup": "True",
         "bingroup": "x",
         "hovertemplate": "English Name=Carrot(Local)<br>Average Price (Rs.)=%{x}<br>count=%{y}<extra></extra>",
         "legendgroup": "Carrot(Local)",
         "marker": {
          "color": "#FFA15A",
          "pattern": {
           "shape": ""
          }
         },
         "name": "Carrot(Local)",
         "offsetgroup": "Carrot(Local)",
         "orientation": "v",
         "showlegend": true,
         "type": "histogram",
         "x": [
          150
         ],
         "xaxis": "x",
         "yaxis": "y"
        },
        {
         "alignmentgroup": "True",
         "bingroup": "x",
         "hovertemplate": "English Name=Carrot(Terai)<br>Average Price (Rs.)=%{x}<br>count=%{y}<extra></extra>",
         "legendgroup": "Carrot(Terai)",
         "marker": {
          "color": "#19d3f3",
          "pattern": {
           "shape": ""
          }
         },
         "name": "Carrot(Terai)",
         "offsetgroup": "Carrot(Terai)",
         "orientation": "v",
         "showlegend": true,
         "type": "histogram",
         "x": [
          135
         ],
         "xaxis": "x",
         "yaxis": "y"
        },
        {
         "alignmentgroup": "True",
         "bingroup": "x",
         "hovertemplate": "English Name=Cauli Local<br>Average Price (Rs.)=%{x}<br>count=%{y}<extra></extra>",
         "legendgroup": "Cauli Local",
         "marker": {
          "color": "#FF6692",
          "pattern": {
           "shape": ""
          }
         },
         "name": "Cauli Local",
         "offsetgroup": "Cauli Local",
         "orientation": "v",
         "showlegend": true,
         "type": "histogram",
         "x": [
          95
         ],
         "xaxis": "x",
         "yaxis": "y"
        },
        {
         "alignmentgroup": "True",
         "bingroup": "x",
         "hovertemplate": "English Name=Celery<br>Average Price (Rs.)=%{x}<br>count=%{y}<extra></extra>",
         "legendgroup": "Celery",
         "marker": {
          "color": "#B6E880",
          "pattern": {
           "shape": ""
          }
         },
         "name": "Celery",
         "offsetgroup": "Celery",
         "orientation": "v",
         "showlegend": true,
         "type": "histogram",
         "x": [
          425
         ],
         "xaxis": "x",
         "yaxis": "y"
        },
        {
         "alignmentgroup": "True",
         "bingroup": "x",
         "hovertemplate": "English Name=Chilli Dry<br>Average Price (Rs.)=%{x}<br>count=%{y}<extra></extra>",
         "legendgroup": "Chilli Dry",
         "marker": {
          "color": "#FF97FF",
          "pattern": {
           "shape": ""
          }
         },
         "name": "Chilli Dry",
         "offsetgroup": "Chilli Dry",
         "orientation": "v",
         "showlegend": true,
         "type": "histogram",
         "x": [
          310
         ],
         "xaxis": "x",
         "yaxis": "y"
        },
        {
         "alignmentgroup": "True",
         "bingroup": "x",
         "hovertemplate": "English Name=Chilli Green<br>Average Price (Rs.)=%{x}<br>count=%{y}<extra></extra>",
         "legendgroup": "Chilli Green",
         "marker": {
          "color": "#FECB52",
          "pattern": {
           "shape": ""
          }
         },
         "name": "Chilli Green",
         "offsetgroup": "Chilli Green",
         "orientation": "v",
         "showlegend": true,
         "type": "histogram",
         "x": [
          85
         ],
         "xaxis": "x",
         "yaxis": "y"
        },
        {
         "alignmentgroup": "True",
         "bingroup": "x",
         "hovertemplate": "English Name=Chilli Green(Akbare)<br>Average Price (Rs.)=%{x}<br>count=%{y}<extra></extra>",
         "legendgroup": "Chilli Green(Akbare)",
         "marker": {
          "color": "#636efa",
          "pattern": {
           "shape": ""
          }
         },
         "name": "Chilli Green(Akbare)",
         "offsetgroup": "Chilli Green(Akbare)",
         "orientation": "v",
         "showlegend": true,
         "type": "histogram",
         "x": [
          175
         ],
         "xaxis": "x",
         "yaxis": "y"
        },
        {
         "alignmentgroup": "True",
         "bingroup": "x",
         "hovertemplate": "English Name=Chilli Green(Bullet)<br>Average Price (Rs.)=%{x}<br>count=%{y}<extra></extra>",
         "legendgroup": "Chilli Green(Bullet)",
         "marker": {
          "color": "#EF553B",
          "pattern": {
           "shape": ""
          }
         },
         "name": "Chilli Green(Bullet)",
         "offsetgroup": "Chilli Green(Bullet)",
         "orientation": "v",
         "showlegend": true,
         "type": "histogram",
         "x": [
          115
         ],
         "xaxis": "x",
         "yaxis": "y"
        },
        {
         "alignmentgroup": "True",
         "bingroup": "x",
         "hovertemplate": "English Name=Chilli Green(Machhe)<br>Average Price (Rs.)=%{x}<br>count=%{y}<extra></extra>",
         "legendgroup": "Chilli Green(Machhe)",
         "marker": {
          "color": "#00cc96",
          "pattern": {
           "shape": ""
          }
         },
         "name": "Chilli Green(Machhe)",
         "offsetgroup": "Chilli Green(Machhe)",
         "orientation": "v",
         "showlegend": true,
         "type": "histogram",
         "x": [
          55
         ],
         "xaxis": "x",
         "yaxis": "y"
        },
        {
         "alignmentgroup": "True",
         "bingroup": "x",
         "hovertemplate": "English Name=Christophine<br>Average Price (Rs.)=%{x}<br>count=%{y}<extra></extra>",
         "legendgroup": "Christophine",
         "marker": {
          "color": "#ab63fa",
          "pattern": {
           "shape": ""
          }
         },
         "name": "Christophine",
         "offsetgroup": "Christophine",
         "orientation": "v",
         "showlegend": true,
         "type": "histogram",
         "x": [
          12.5
         ],
         "xaxis": "x",
         "yaxis": "y"
        },
        {
         "alignmentgroup": "True",
         "bingroup": "x",
         "hovertemplate": "English Name=Clive Dry<br>Average Price (Rs.)=%{x}<br>count=%{y}<extra></extra>",
         "legendgroup": "Clive Dry",
         "marker": {
          "color": "#FFA15A",
          "pattern": {
           "shape": ""
          }
         },
         "name": "Clive Dry",
         "offsetgroup": "Clive Dry",
         "orientation": "v",
         "showlegend": true,
         "type": "histogram",
         "x": [
          290
         ],
         "xaxis": "x",
         "yaxis": "y"
        },
        {
         "alignmentgroup": "True",
         "bingroup": "x",
         "hovertemplate": "English Name=Clive Green<br>Average Price (Rs.)=%{x}<br>count=%{y}<extra></extra>",
         "legendgroup": "Clive Green",
         "marker": {
          "color": "#19d3f3",
          "pattern": {
           "shape": ""
          }
         },
         "name": "Clive Green",
         "offsetgroup": "Clive Green",
         "orientation": "v",
         "showlegend": true,
         "type": "histogram",
         "x": [
          335
         ],
         "xaxis": "x",
         "yaxis": "y"
        },
        {
         "alignmentgroup": "True",
         "bingroup": "x",
         "hovertemplate": "English Name=Coriander Green<br>Average Price (Rs.)=%{x}<br>count=%{y}<extra></extra>",
         "legendgroup": "Coriander Green",
         "marker": {
          "color": "#FF6692",
          "pattern": {
           "shape": ""
          }
         },
         "name": "Coriander Green",
         "offsetgroup": "Coriander Green",
         "orientation": "v",
         "showlegend": true,
         "type": "histogram",
         "x": [
          450
         ],
         "xaxis": "x",
         "yaxis": "y"
        },
        {
         "alignmentgroup": "True",
         "bingroup": "x",
         "hovertemplate": "English Name=Cow pea(Long)<br>Average Price (Rs.)=%{x}<br>count=%{y}<extra></extra>",
         "legendgroup": "Cow pea(Long)",
         "marker": {
          "color": "#B6E880",
          "pattern": {
           "shape": ""
          }
         },
         "name": "Cow pea(Long)",
         "offsetgroup": "Cow pea(Long)",
         "orientation": "v",
         "showlegend": true,
         "type": "histogram",
         "x": [
          90
         ],
         "xaxis": "x",
         "yaxis": "y"
        },
        {
         "alignmentgroup": "True",
         "bingroup": "x",
         "hovertemplate": "English Name=Cowpea(Short)<br>Average Price (Rs.)=%{x}<br>count=%{y}<extra></extra>",
         "legendgroup": "Cowpea(Short)",
         "marker": {
          "color": "#FF97FF",
          "pattern": {
           "shape": ""
          }
         },
         "name": "Cowpea(Short)",
         "offsetgroup": "Cowpea(Short)",
         "orientation": "v",
         "showlegend": true,
         "type": "histogram",
         "x": [
          105
         ],
         "xaxis": "x",
         "yaxis": "y"
        },
        {
         "alignmentgroup": "True",
         "bingroup": "x",
         "hovertemplate": "English Name=Cress Leaf<br>Average Price (Rs.)=%{x}<br>count=%{y}<extra></extra>",
         "legendgroup": "Cress Leaf",
         "marker": {
          "color": "#FECB52",
          "pattern": {
           "shape": ""
          }
         },
         "name": "Cress Leaf",
         "offsetgroup": "Cress Leaf",
         "orientation": "v",
         "showlegend": true,
         "type": "histogram",
         "x": [
          290
         ],
         "xaxis": "x",
         "yaxis": "y"
        },
        {
         "alignmentgroup": "True",
         "bingroup": "x",
         "hovertemplate": "English Name=Cucumber(Hybrid)<br>Average Price (Rs.)=%{x}<br>count=%{y}<extra></extra>",
         "legendgroup": "Cucumber(Hybrid)",
         "marker": {
          "color": "#636efa",
          "pattern": {
           "shape": ""
          }
         },
         "name": "Cucumber(Hybrid)",
         "offsetgroup": "Cucumber(Hybrid)",
         "orientation": "v",
         "showlegend": true,
         "type": "histogram",
         "x": [
          25
         ],
         "xaxis": "x",
         "yaxis": "y"
        },
        {
         "alignmentgroup": "True",
         "bingroup": "x",
         "hovertemplate": "English Name=Cucumber(Local)<br>Average Price (Rs.)=%{x}<br>count=%{y}<extra></extra>",
         "legendgroup": "Cucumber(Local)",
         "marker": {
          "color": "#EF553B",
          "pattern": {
           "shape": ""
          }
         },
         "name": "Cucumber(Local)",
         "offsetgroup": "Cucumber(Local)",
         "orientation": "v",
         "showlegend": true,
         "type": "histogram",
         "x": [
          60
         ],
         "xaxis": "x",
         "yaxis": "y"
        },
        {
         "alignmentgroup": "True",
         "bingroup": "x",
         "hovertemplate": "English Name=Drumstick<br>Average Price (Rs.)=%{x}<br>count=%{y}<extra></extra>",
         "legendgroup": "Drumstick",
         "marker": {
          "color": "#00cc96",
          "pattern": {
           "shape": ""
          }
         },
         "name": "Drumstick",
         "offsetgroup": "Drumstick",
         "orientation": "v",
         "showlegend": true,
         "type": "histogram",
         "x": [
          190
         ],
         "xaxis": "x",
         "yaxis": "y"
        },
        {
         "alignmentgroup": "True",
         "bingroup": "x",
         "hovertemplate": "English Name=Fish Fresh(Bachuwa)<br>Average Price (Rs.)=%{x}<br>count=%{y}<extra></extra>",
         "legendgroup": "Fish Fresh(Bachuwa)",
         "marker": {
          "color": "#ab63fa",
          "pattern": {
           "shape": ""
          }
         },
         "name": "Fish Fresh(Bachuwa)",
         "offsetgroup": "Fish Fresh(Bachuwa)",
         "orientation": "v",
         "showlegend": true,
         "type": "histogram",
         "x": [
          230
         ],
         "xaxis": "x",
         "yaxis": "y"
        },
        {
         "alignmentgroup": "True",
         "bingroup": "x",
         "hovertemplate": "English Name=Fish Fresh(Chhadi)<br>Average Price (Rs.)=%{x}<br>count=%{y}<extra></extra>",
         "legendgroup": "Fish Fresh(Chhadi)",
         "marker": {
          "color": "#FFA15A",
          "pattern": {
           "shape": ""
          }
         },
         "name": "Fish Fresh(Chhadi)",
         "offsetgroup": "Fish Fresh(Chhadi)",
         "orientation": "v",
         "showlegend": true,
         "type": "histogram",
         "x": [
          225
         ],
         "xaxis": "x",
         "yaxis": "y"
        },
        {
         "alignmentgroup": "True",
         "bingroup": "x",
         "hovertemplate": "English Name=Fish Fresh(Mungari)<br>Average Price (Rs.)=%{x}<br>count=%{y}<extra></extra>",
         "legendgroup": "Fish Fresh(Mungari)",
         "marker": {
          "color": "#19d3f3",
          "pattern": {
           "shape": ""
          }
         },
         "name": "Fish Fresh(Mungari)",
         "offsetgroup": "Fish Fresh(Mungari)",
         "orientation": "v",
         "showlegend": true,
         "type": "histogram",
         "x": [
          255
         ],
         "xaxis": "x",
         "yaxis": "y"
        },
        {
         "alignmentgroup": "True",
         "bingroup": "x",
         "hovertemplate": "English Name=Fish Fresh(Rahu)<br>Average Price (Rs.)=%{x}<br>count=%{y}<extra></extra>",
         "legendgroup": "Fish Fresh(Rahu)",
         "marker": {
          "color": "#FF6692",
          "pattern": {
           "shape": ""
          }
         },
         "name": "Fish Fresh(Rahu)",
         "offsetgroup": "Fish Fresh(Rahu)",
         "orientation": "v",
         "showlegend": true,
         "type": "histogram",
         "x": [
          275
         ],
         "xaxis": "x",
         "yaxis": "y"
        },
        {
         "alignmentgroup": "True",
         "bingroup": "x",
         "hovertemplate": "English Name=French Bean(Hybrid)<br>Average Price (Rs.)=%{x}<br>count=%{y}<extra></extra>",
         "legendgroup": "French Bean(Hybrid)",
         "marker": {
          "color": "#B6E880",
          "pattern": {
           "shape": ""
          }
         },
         "name": "French Bean(Hybrid)",
         "offsetgroup": "French Bean(Hybrid)",
         "orientation": "v",
         "showlegend": true,
         "type": "histogram",
         "x": [
          95
         ],
         "xaxis": "x",
         "yaxis": "y"
        },
        {
         "alignmentgroup": "True",
         "bingroup": "x",
         "hovertemplate": "English Name=French Bean(Local)<br>Average Price (Rs.)=%{x}<br>count=%{y}<extra></extra>",
         "legendgroup": "French Bean(Local)",
         "marker": {
          "color": "#FF97FF",
          "pattern": {
           "shape": ""
          }
         },
         "name": "French Bean(Local)",
         "offsetgroup": "French Bean(Local)",
         "orientation": "v",
         "showlegend": true,
         "type": "histogram",
         "x": [
          95
         ],
         "xaxis": "x",
         "yaxis": "y"
        },
        {
         "alignmentgroup": "True",
         "bingroup": "x",
         "hovertemplate": "English Name=Garlic Dry Chinese<br>Average Price (Rs.)=%{x}<br>count=%{y}<extra></extra>",
         "legendgroup": "Garlic Dry Chinese",
         "marker": {
          "color": "#FECB52",
          "pattern": {
           "shape": ""
          }
         },
         "name": "Garlic Dry Chinese",
         "offsetgroup": "Garlic Dry Chinese",
         "orientation": "v",
         "showlegend": true,
         "type": "histogram",
         "x": [
          200
         ],
         "xaxis": "x",
         "yaxis": "y"
        },
        {
         "alignmentgroup": "True",
         "bingroup": "x",
         "hovertemplate": "English Name=Garlic Dry Nepali<br>Average Price (Rs.)=%{x}<br>count=%{y}<extra></extra>",
         "legendgroup": "Garlic Dry Nepali",
         "marker": {
          "color": "#636efa",
          "pattern": {
           "shape": ""
          }
         },
         "name": "Garlic Dry Nepali",
         "offsetgroup": "Garlic Dry Nepali",
         "orientation": "v",
         "showlegend": true,
         "type": "histogram",
         "x": [
          165
         ],
         "xaxis": "x",
         "yaxis": "y"
        },
        {
         "alignmentgroup": "True",
         "bingroup": "x",
         "hovertemplate": "English Name=Garlic Green<br>Average Price (Rs.)=%{x}<br>count=%{y}<extra></extra>",
         "legendgroup": "Garlic Green",
         "marker": {
          "color": "#EF553B",
          "pattern": {
           "shape": ""
          }
         },
         "name": "Garlic Green",
         "offsetgroup": "Garlic Green",
         "orientation": "v",
         "showlegend": true,
         "type": "histogram",
         "x": [
          375
         ],
         "xaxis": "x",
         "yaxis": "y"
        },
        {
         "alignmentgroup": "True",
         "bingroup": "x",
         "hovertemplate": "English Name=Ginger<br>Average Price (Rs.)=%{x}<br>count=%{y}<extra></extra>",
         "legendgroup": "Ginger",
         "marker": {
          "color": "#00cc96",
          "pattern": {
           "shape": ""
          }
         },
         "name": "Ginger",
         "offsetgroup": "Ginger",
         "orientation": "v",
         "showlegend": true,
         "type": "histogram",
         "x": [
          85
         ],
         "xaxis": "x",
         "yaxis": "y"
        },
        {
         "alignmentgroup": "True",
         "bingroup": "x",
         "hovertemplate": "English Name=Guava<br>Average Price (Rs.)=%{x}<br>count=%{y}<extra></extra>",
         "legendgroup": "Guava",
         "marker": {
          "color": "#ab63fa",
          "pattern": {
           "shape": ""
          }
         },
         "name": "Guava",
         "offsetgroup": "Guava",
         "orientation": "v",
         "showlegend": true,
         "type": "histogram",
         "x": [
          110
         ],
         "xaxis": "x",
         "yaxis": "y"
        },
        {
         "alignmentgroup": "True",
         "bingroup": "x",
         "hovertemplate": "English Name=Gundruk<br>Average Price (Rs.)=%{x}<br>count=%{y}<extra></extra>",
         "legendgroup": "Gundruk",
         "marker": {
          "color": "#FFA15A",
          "pattern": {
           "shape": ""
          }
         },
         "name": "Gundruk",
         "offsetgroup": "Gundruk",
         "orientation": "v",
         "showlegend": true,
         "type": "histogram",
         "x": [
          175
         ],
         "xaxis": "x",
         "yaxis": "y"
        },
        {
         "alignmentgroup": "True",
         "bingroup": "x",
         "hovertemplate": "English Name=Kiwi<br>Average Price (Rs.)=%{x}<br>count=%{y}<extra></extra>",
         "legendgroup": "Kiwi",
         "marker": {
          "color": "#19d3f3",
          "pattern": {
           "shape": ""
          }
         },
         "name": "Kiwi",
         "offsetgroup": "Kiwi",
         "orientation": "v",
         "showlegend": true,
         "type": "histogram",
         "x": [
          550
         ],
         "xaxis": "x",
         "yaxis": "y"
        },
        {
         "alignmentgroup": "True",
         "bingroup": "x",
         "hovertemplate": "English Name=Lemon<br>Average Price (Rs.)=%{x}<br>count=%{y}<extra></extra>",
         "legendgroup": "Lemon",
         "marker": {
          "color": "#FF6692",
          "pattern": {
           "shape": ""
          }
         },
         "name": "Lemon",
         "offsetgroup": "Lemon",
         "orientation": "v",
         "showlegend": true,
         "type": "histogram",
         "x": [
          55
         ],
         "xaxis": "x",
         "yaxis": "y"
        },
        {
         "alignmentgroup": "True",
         "bingroup": "x",
         "hovertemplate": "English Name=Lettuce<br>Average Price (Rs.)=%{x}<br>count=%{y}<extra></extra>",
         "legendgroup": "Lettuce",
         "marker": {
          "color": "#B6E880",
          "pattern": {
           "shape": ""
          }
         },
         "name": "Lettuce",
         "offsetgroup": "Lettuce",
         "orientation": "v",
         "showlegend": true,
         "type": "histogram",
         "x": [
          325
         ],
         "xaxis": "x",
         "yaxis": "y"
        },
        {
         "alignmentgroup": "True",
         "bingroup": "x",
         "hovertemplate": "English Name=Lime<br>Average Price (Rs.)=%{x}<br>count=%{y}<extra></extra>",
         "legendgroup": "Lime",
         "marker": {
          "color": "#FF97FF",
          "pattern": {
           "shape": ""
          }
         },
         "name": "Lime",
         "offsetgroup": "Lime",
         "orientation": "v",
         "showlegend": true,
         "type": "histogram",
         "x": [
          155
         ],
         "xaxis": "x",
         "yaxis": "y"
        },
        {
         "alignmentgroup": "True",
         "bingroup": "x",
         "hovertemplate": "English Name=Mombin<br>Average Price (Rs.)=%{x}<br>count=%{y}<extra></extra>",
         "legendgroup": "Mombin",
         "marker": {
          "color": "#FECB52",
          "pattern": {
           "shape": ""
          }
         },
         "name": "Mombin",
         "offsetgroup": "Mombin",
         "orientation": "v",
         "showlegend": true,
         "type": "histogram",
         "x": [
          55
         ],
         "xaxis": "x",
         "yaxis": "y"
        },
        {
         "alignmentgroup": "True",
         "bingroup": "x",
         "hovertemplate": "English Name=Mushroom(Button)<br>Average Price (Rs.)=%{x}<br>count=%{y}<extra></extra>",
         "legendgroup": "Mushroom(Button)",
         "marker": {
          "color": "#636efa",
          "pattern": {
           "shape": ""
          }
         },
         "name": "Mushroom(Button)",
         "offsetgroup": "Mushroom(Button)",
         "orientation": "v",
         "showlegend": true,
         "type": "histogram",
         "x": [
          425
         ],
         "xaxis": "x",
         "yaxis": "y"
        },
        {
         "alignmentgroup": "True",
         "bingroup": "x",
         "hovertemplate": "English Name=Mushroom(Kanya)<br>Average Price (Rs.)=%{x}<br>count=%{y}<extra></extra>",
         "legendgroup": "Mushroom(Kanya)",
         "marker": {
          "color": "#EF553B",
          "pattern": {
           "shape": ""
          }
         },
         "name": "Mushroom(Kanya)",
         "offsetgroup": "Mushroom(Kanya)",
         "orientation": "v",
         "showlegend": true,
         "type": "histogram",
         "x": [
          235
         ],
         "xaxis": "x",
         "yaxis": "y"
        },
        {
         "alignmentgroup": "True",
         "bingroup": "x",
         "hovertemplate": "English Name=Mustard Leaf<br>Average Price (Rs.)=%{x}<br>count=%{y}<extra></extra>",
         "legendgroup": "Mustard Leaf",
         "marker": {
          "color": "#00cc96",
          "pattern": {
           "shape": ""
          }
         },
         "name": "Mustard Leaf",
         "offsetgroup": "Mustard Leaf",
         "orientation": "v",
         "showlegend": true,
         "type": "histogram",
         "x": [
          85
         ],
         "xaxis": "x",
         "yaxis": "y"
        },
        {
         "alignmentgroup": "True",
         "bingroup": "x",
         "hovertemplate": "English Name=Neuro<br>Average Price (Rs.)=%{x}<br>count=%{y}<extra></extra>",
         "legendgroup": "Neuro",
         "marker": {
          "color": "#ab63fa",
          "pattern": {
           "shape": ""
          }
         },
         "name": "Neuro",
         "offsetgroup": "Neuro",
         "orientation": "v",
         "showlegend": true,
         "type": "histogram",
         "x": [
          85
         ],
         "xaxis": "x",
         "yaxis": "y"
        },
        {
         "alignmentgroup": "True",
         "bingroup": "x",
         "hovertemplate": "English Name=Okara<br>Average Price (Rs.)=%{x}<br>count=%{y}<extra></extra>",
         "legendgroup": "Okara",
         "marker": {
          "color": "#FFA15A",
          "pattern": {
           "shape": ""
          }
         },
         "name": "Okara",
         "offsetgroup": "Okara",
         "orientation": "v",
         "showlegend": true,
         "type": "histogram",
         "x": [
          55
         ],
         "xaxis": "x",
         "yaxis": "y"
        },
        {
         "alignmentgroup": "True",
         "bingroup": "x",
         "hovertemplate": "English Name=Onion Dry (Indian)<br>Average Price (Rs.)=%{x}<br>count=%{y}<extra></extra>",
         "legendgroup": "Onion Dry (Indian)",
         "marker": {
          "color": "#19d3f3",
          "pattern": {
           "shape": ""
          }
         },
         "name": "Onion Dry (Indian)",
         "offsetgroup": "Onion Dry (Indian)",
         "orientation": "v",
         "showlegend": true,
         "type": "histogram",
         "x": [
          43.5
         ],
         "xaxis": "x",
         "yaxis": "y"
        },
        {
         "alignmentgroup": "True",
         "bingroup": "x",
         "hovertemplate": "English Name=Onion Green<br>Average Price (Rs.)=%{x}<br>count=%{y}<extra></extra>",
         "legendgroup": "Onion Green",
         "marker": {
          "color": "#FF6692",
          "pattern": {
           "shape": ""
          }
         },
         "name": "Onion Green",
         "offsetgroup": "Onion Green",
         "orientation": "v",
         "showlegend": true,
         "type": "histogram",
         "x": [
          190
         ],
         "xaxis": "x",
         "yaxis": "y"
        },
        {
         "alignmentgroup": "True",
         "bingroup": "x",
         "hovertemplate": "English Name=Orange(Indian)<br>Average Price (Rs.)=%{x}<br>count=%{y}<extra></extra>",
         "legendgroup": "Orange(Indian)",
         "marker": {
          "color": "#B6E880",
          "pattern": {
           "shape": ""
          }
         },
         "name": "Orange(Indian)",
         "offsetgroup": "Orange(Indian)",
         "orientation": "v",
         "showlegend": true,
         "type": "histogram",
         "x": [
          125
         ],
         "xaxis": "x",
         "yaxis": "y"
        },
        {
         "alignmentgroup": "True",
         "bingroup": "x",
         "hovertemplate": "English Name=Papaya(Indian)<br>Average Price (Rs.)=%{x}<br>count=%{y}<extra></extra>",
         "legendgroup": "Papaya(Indian)",
         "marker": {
          "color": "#FF97FF",
          "pattern": {
           "shape": ""
          }
         },
         "name": "Papaya(Indian)",
         "offsetgroup": "Papaya(Indian)",
         "orientation": "v",
         "showlegend": true,
         "type": "histogram",
         "x": [
          75
         ],
         "xaxis": "x",
         "yaxis": "y"
        },
        {
         "alignmentgroup": "True",
         "bingroup": "x",
         "hovertemplate": "English Name=Pear(Chinese)<br>Average Price (Rs.)=%{x}<br>count=%{y}<extra></extra>",
         "legendgroup": "Pear(Chinese)",
         "marker": {
          "color": "#FECB52",
          "pattern": {
           "shape": ""
          }
         },
         "name": "Pear(Chinese)",
         "offsetgroup": "Pear(Chinese)",
         "orientation": "v",
         "showlegend": true,
         "type": "histogram",
         "x": [
          195
         ],
         "xaxis": "x",
         "yaxis": "y"
        },
        {
         "alignmentgroup": "True",
         "bingroup": "x",
         "hovertemplate": "English Name=Pear(Local)<br>Average Price (Rs.)=%{x}<br>count=%{y}<extra></extra>",
         "legendgroup": "Pear(Local)",
         "marker": {
          "color": "#636efa",
          "pattern": {
           "shape": ""
          }
         },
         "name": "Pear(Local)",
         "offsetgroup": "Pear(Local)",
         "orientation": "v",
         "showlegend": true,
         "type": "histogram",
         "x": [
          55
         ],
         "xaxis": "x",
         "yaxis": "y"
        },
        {
         "alignmentgroup": "True",
         "bingroup": "x",
         "hovertemplate": "English Name=Pineapple<br>Average Price (Rs.)=%{x}<br>count=%{y}<extra></extra>",
         "legendgroup": "Pineapple",
         "marker": {
          "color": "#EF553B",
          "pattern": {
           "shape": ""
          }
         },
         "name": "Pineapple",
         "offsetgroup": "Pineapple",
         "orientation": "v",
         "showlegend": true,
         "type": "histogram",
         "x": [
          155
         ],
         "xaxis": "x",
         "yaxis": "y"
        },
        {
         "alignmentgroup": "True",
         "bingroup": "x",
         "hovertemplate": "English Name=Pointed Gourd(Local)<br>Average Price (Rs.)=%{x}<br>count=%{y}<extra></extra>",
         "legendgroup": "Pointed Gourd(Local)",
         "marker": {
          "color": "#00cc96",
          "pattern": {
           "shape": ""
          }
         },
         "name": "Pointed Gourd(Local)",
         "offsetgroup": "Pointed Gourd(Local)",
         "orientation": "v",
         "showlegend": true,
         "type": "histogram",
         "x": [
          75
         ],
         "xaxis": "x",
         "yaxis": "y"
        },
        {
         "alignmentgroup": "True",
         "bingroup": "x",
         "hovertemplate": "English Name=Pointed Gourd(Terai)<br>Average Price (Rs.)=%{x}<br>count=%{y}<extra></extra>",
         "legendgroup": "Pointed Gourd(Terai)",
         "marker": {
          "color": "#ab63fa",
          "pattern": {
           "shape": ""
          }
         },
         "name": "Pointed Gourd(Terai)",
         "offsetgroup": "Pointed Gourd(Terai)",
         "orientation": "v",
         "showlegend": true,
         "type": "histogram",
         "x": [
          75
         ],
         "xaxis": "x",
         "yaxis": "y"
        },
        {
         "alignmentgroup": "True",
         "bingroup": "x",
         "hovertemplate": "English Name=Pomegranate<br>Average Price (Rs.)=%{x}<br>count=%{y}<extra></extra>",
         "legendgroup": "Pomegranate",
         "marker": {
          "color": "#FFA15A",
          "pattern": {
           "shape": ""
          }
         },
         "name": "Pomegranate",
         "offsetgroup": "Pomegranate",
         "orientation": "v",
         "showlegend": true,
         "type": "histogram",
         "x": [
          325
         ],
         "xaxis": "x",
         "yaxis": "y"
        },
        {
         "alignmentgroup": "True",
         "bingroup": "x",
         "hovertemplate": "English Name=Potato Red<br>Average Price (Rs.)=%{x}<br>count=%{y}<extra></extra>",
         "legendgroup": "Potato Red",
         "marker": {
          "color": "#19d3f3",
          "pattern": {
           "shape": ""
          }
         },
         "name": "Potato Red",
         "offsetgroup": "Potato Red",
         "orientation": "v",
         "showlegend": true,
         "type": "histogram",
         "x": [
          57
         ],
         "xaxis": "x",
         "yaxis": "y"
        },
        {
         "alignmentgroup": "True",
         "bingroup": "x",
         "hovertemplate": "English Name=Potato Red(Indian)<br>Average Price (Rs.)=%{x}<br>count=%{y}<extra></extra>",
         "legendgroup": "Potato Red(Indian)",
         "marker": {
          "color": "#FF6692",
          "pattern": {
           "shape": ""
          }
         },
         "name": "Potato Red(Indian)",
         "offsetgroup": "Potato Red(Indian)",
         "orientation": "v",
         "showlegend": true,
         "type": "histogram",
         "x": [
          27
         ],
         "xaxis": "x",
         "yaxis": "y"
        },
        {
         "alignmentgroup": "True",
         "bingroup": "x",
         "hovertemplate": "English Name=Potato Red(Mude)<br>Average Price (Rs.)=%{x}<br>count=%{y}<extra></extra>",
         "legendgroup": "Potato Red(Mude)",
         "marker": {
          "color": "#B6E880",
          "pattern": {
           "shape": ""
          }
         },
         "name": "Potato Red(Mude)",
         "offsetgroup": "Potato Red(Mude)",
         "orientation": "v",
         "showlegend": true,
         "type": "histogram",
         "x": [
          49
         ],
         "xaxis": "x",
         "yaxis": "y"
        },
        {
         "alignmentgroup": "True",
         "bingroup": "x",
         "hovertemplate": "English Name=Potato White<br>Average Price (Rs.)=%{x}<br>count=%{y}<extra></extra>",
         "legendgroup": "Potato White",
         "marker": {
          "color": "#FF97FF",
          "pattern": {
           "shape": ""
          }
         },
         "name": "Potato White",
         "offsetgroup": "Potato White",
         "orientation": "v",
         "showlegend": true,
         "type": "histogram",
         "x": [
          41.5
         ],
         "xaxis": "x",
         "yaxis": "y"
        },
        {
         "alignmentgroup": "True",
         "bingroup": "x",
         "hovertemplate": "English Name=Pumpkin<br>Average Price (Rs.)=%{x}<br>count=%{y}<extra></extra>",
         "legendgroup": "Pumpkin",
         "marker": {
          "color": "#FECB52",
          "pattern": {
           "shape": ""
          }
         },
         "name": "Pumpkin",
         "offsetgroup": "Pumpkin",
         "orientation": "v",
         "showlegend": true,
         "type": "histogram",
         "x": [
          37.5
         ],
         "xaxis": "x",
         "yaxis": "y"
        },
        {
         "alignmentgroup": "True",
         "bingroup": "x",
         "hovertemplate": "English Name=Raddish Red<br>Average Price (Rs.)=%{x}<br>count=%{y}<extra></extra>",
         "legendgroup": "Raddish Red",
         "marker": {
          "color": "#636efa",
          "pattern": {
           "shape": ""
          }
         },
         "name": "Raddish Red",
         "offsetgroup": "Raddish Red",
         "orientation": "v",
         "showlegend": true,
         "type": "histogram",
         "x": [
          45
         ],
         "xaxis": "x",
         "yaxis": "y"
        },
        {
         "alignmentgroup": "True",
         "bingroup": "x",
         "hovertemplate": "English Name=Raddish White(Hybrid)<br>Average Price (Rs.)=%{x}<br>count=%{y}<extra></extra>",
         "legendgroup": "Raddish White(Hybrid)",
         "marker": {
          "color": "#EF553B",
          "pattern": {
           "shape": ""
          }
         },
         "name": "Raddish White(Hybrid)",
         "offsetgroup": "Raddish White(Hybrid)",
         "orientation": "v",
         "showlegend": true,
         "type": "histogram",
         "x": [
          27.5
         ],
         "xaxis": "x",
         "yaxis": "y"
        },
        {
         "alignmentgroup": "True",
         "bingroup": "x",
         "hovertemplate": "English Name=Raddish White(Local)<br>Average Price (Rs.)=%{x}<br>count=%{y}<extra></extra>",
         "legendgroup": "Raddish White(Local)",
         "marker": {
          "color": "#00cc96",
          "pattern": {
           "shape": ""
          }
         },
         "name": "Raddish White(Local)",
         "offsetgroup": "Raddish White(Local)",
         "orientation": "v",
         "showlegend": true,
         "type": "histogram",
         "x": [
          22.5
         ],
         "xaxis": "x",
         "yaxis": "y"
        },
        {
         "alignmentgroup": "True",
         "bingroup": "x",
         "hovertemplate": "English Name=Red Cabbbage<br>Average Price (Rs.)=%{x}<br>count=%{y}<extra></extra>",
         "legendgroup": "Red Cabbbage",
         "marker": {
          "color": "#ab63fa",
          "pattern": {
           "shape": ""
          }
         },
         "name": "Red Cabbbage",
         "offsetgroup": "Red Cabbbage",
         "orientation": "v",
         "showlegend": true,
         "type": "histogram",
         "x": [
          375
         ],
         "xaxis": "x",
         "yaxis": "y"
        },
        {
         "alignmentgroup": "True",
         "bingroup": "x",
         "hovertemplate": "English Name=Smooth Gourd<br>Average Price (Rs.)=%{x}<br>count=%{y}<extra></extra>",
         "legendgroup": "Smooth Gourd",
         "marker": {
          "color": "#FFA15A",
          "pattern": {
           "shape": ""
          }
         },
         "name": "Smooth Gourd",
         "offsetgroup": "Smooth Gourd",
         "orientation": "v",
         "showlegend": true,
         "type": "histogram",
         "x": [
          55
         ],
         "xaxis": "x",
         "yaxis": "y"
        },
        {
         "alignmentgroup": "True",
         "bingroup": "x",
         "hovertemplate": "English Name=Snake Gourd<br>Average Price (Rs.)=%{x}<br>count=%{y}<extra></extra>",
         "legendgroup": "Snake Gourd",
         "marker": {
          "color": "#19d3f3",
          "pattern": {
           "shape": ""
          }
         },
         "name": "Snake Gourd",
         "offsetgroup": "Snake Gourd",
         "orientation": "v",
         "showlegend": true,
         "type": "histogram",
         "x": [
          35
         ],
         "xaxis": "x",
         "yaxis": "y"
        },
        {
         "alignmentgroup": "True",
         "bingroup": "x",
         "hovertemplate": "English Name=Soyabean Green<br>Average Price (Rs.)=%{x}<br>count=%{y}<extra></extra>",
         "legendgroup": "Soyabean Green",
         "marker": {
          "color": "#FF6692",
          "pattern": {
           "shape": ""
          }
         },
         "name": "Soyabean Green",
         "offsetgroup": "Soyabean Green",
         "orientation": "v",
         "showlegend": true,
         "type": "histogram",
         "x": [
          85
         ],
         "xaxis": "x",
         "yaxis": "y"
        },
        {
         "alignmentgroup": "True",
         "bingroup": "x",
         "hovertemplate": "English Name=Spinach Leaf<br>Average Price (Rs.)=%{x}<br>count=%{y}<extra></extra>",
         "legendgroup": "Spinach Leaf",
         "marker": {
          "color": "#B6E880",
          "pattern": {
           "shape": ""
          }
         },
         "name": "Spinach Leaf",
         "offsetgroup": "Spinach Leaf",
         "orientation": "v",
         "showlegend": true,
         "type": "histogram",
         "x": [
          275
         ],
         "xaxis": "x",
         "yaxis": "y"
        },
        {
         "alignmentgroup": "True",
         "bingroup": "x",
         "hovertemplate": "English Name=Sponge Gourd<br>Average Price (Rs.)=%{x}<br>count=%{y}<extra></extra>",
         "legendgroup": "Sponge Gourd",
         "marker": {
          "color": "#FF97FF",
          "pattern": {
           "shape": ""
          }
         },
         "name": "Sponge Gourd",
         "offsetgroup": "Sponge Gourd",
         "orientation": "v",
         "showlegend": true,
         "type": "histogram",
         "x": [
          65
         ],
         "xaxis": "x",
         "yaxis": "y"
        },
        {
         "alignmentgroup": "True",
         "bingroup": "x",
         "hovertemplate": "English Name=Squash(Round)<br>Average Price (Rs.)=%{x}<br>count=%{y}<extra></extra>",
         "legendgroup": "Squash(Round)",
         "marker": {
          "color": "#FECB52",
          "pattern": {
           "shape": ""
          }
         },
         "name": "Squash(Round)",
         "offsetgroup": "Squash(Round)",
         "orientation": "v",
         "showlegend": true,
         "type": "histogram",
         "x": [
          45
         ],
         "xaxis": "x",
         "yaxis": "y"
        },
        {
         "alignmentgroup": "True",
         "bingroup": "x",
         "hovertemplate": "English Name=Sugarbeet<br>Average Price (Rs.)=%{x}<br>count=%{y}<extra></extra>",
         "legendgroup": "Sugarbeet",
         "marker": {
          "color": "#636efa",
          "pattern": {
           "shape": ""
          }
         },
         "name": "Sugarbeet",
         "offsetgroup": "Sugarbeet",
         "orientation": "v",
         "showlegend": true,
         "type": "histogram",
         "x": [
          95
         ],
         "xaxis": "x",
         "yaxis": "y"
        },
        {
         "alignmentgroup": "True",
         "bingroup": "x",
         "hovertemplate": "English Name=Sweet Orange<br>Average Price (Rs.)=%{x}<br>count=%{y}<extra></extra>",
         "legendgroup": "Sweet Orange",
         "marker": {
          "color": "#EF553B",
          "pattern": {
           "shape": ""
          }
         },
         "name": "Sweet Orange",
         "offsetgroup": "Sweet Orange",
         "orientation": "v",
         "showlegend": true,
         "type": "histogram",
         "x": [
          125
         ],
         "xaxis": "x",
         "yaxis": "y"
        },
        {
         "alignmentgroup": "True",
         "bingroup": "x",
         "hovertemplate": "English Name=Sword Bean<br>Average Price (Rs.)=%{x}<br>count=%{y}<extra></extra>",
         "legendgroup": "Sword Bean",
         "marker": {
          "color": "#00cc96",
          "pattern": {
           "shape": ""
          }
         },
         "name": "Sword Bean",
         "offsetgroup": "Sword Bean",
         "orientation": "v",
         "showlegend": true,
         "type": "histogram",
         "x": [
          190
         ],
         "xaxis": "x",
         "yaxis": "y"
        },
        {
         "alignmentgroup": "True",
         "bingroup": "x",
         "hovertemplate": "English Name=Tamarind<br>Average Price (Rs.)=%{x}<br>count=%{y}<extra></extra>",
         "legendgroup": "Tamarind",
         "marker": {
          "color": "#ab63fa",
          "pattern": {
           "shape": ""
          }
         },
         "name": "Tamarind",
         "offsetgroup": "Tamarind",
         "orientation": "v",
         "showlegend": true,
         "type": "histogram",
         "x": [
          145
         ],
         "xaxis": "x",
         "yaxis": "y"
        },
        {
         "alignmentgroup": "True",
         "bingroup": "x",
         "hovertemplate": "English Name=Tofu<br>Average Price (Rs.)=%{x}<br>count=%{y}<extra></extra>",
         "legendgroup": "Tofu",
         "marker": {
          "color": "#FFA15A",
          "pattern": {
           "shape": ""
          }
         },
         "name": "Tofu",
         "offsetgroup": "Tofu",
         "orientation": "v",
         "showlegend": true,
         "type": "histogram",
         "x": [
          95
         ],
         "xaxis": "x",
         "yaxis": "y"
        },
        {
         "alignmentgroup": "True",
         "bingroup": "x",
         "hovertemplate": "English Name=Tomato Big(Indian)<br>Average Price (Rs.)=%{x}<br>count=%{y}<extra></extra>",
         "legendgroup": "Tomato Big(Indian)",
         "marker": {
          "color": "#19d3f3",
          "pattern": {
           "shape": ""
          }
         },
         "name": "Tomato Big(Indian)",
         "offsetgroup": "Tomato Big(Indian)",
         "orientation": "v",
         "showlegend": true,
         "type": "histogram",
         "x": [
          55
         ],
         "xaxis": "x",
         "yaxis": "y"
        },
        {
         "alignmentgroup": "True",
         "bingroup": "x",
         "hovertemplate": "English Name=Tomato Small(Local)<br>Average Price (Rs.)=%{x}<br>count=%{y}<extra></extra>",
         "legendgroup": "Tomato Small(Local)",
         "marker": {
          "color": "#FF6692",
          "pattern": {
           "shape": ""
          }
         },
         "name": "Tomato Small(Local)",
         "offsetgroup": "Tomato Small(Local)",
         "orientation": "v",
         "showlegend": true,
         "type": "histogram",
         "x": [
          12.5
         ],
         "xaxis": "x",
         "yaxis": "y"
        },
        {
         "alignmentgroup": "True",
         "bingroup": "x",
         "hovertemplate": "English Name=Tomato Small(Tunnel)<br>Average Price (Rs.)=%{x}<br>count=%{y}<extra></extra>",
         "legendgroup": "Tomato Small(Tunnel)",
         "marker": {
          "color": "#B6E880",
          "pattern": {
           "shape": ""
          }
         },
         "name": "Tomato Small(Tunnel)",
         "offsetgroup": "Tomato Small(Tunnel)",
         "orientation": "v",
         "showlegend": true,
         "type": "histogram",
         "x": [
          17.5
         ],
         "xaxis": "x",
         "yaxis": "y"
        },
        {
         "alignmentgroup": "True",
         "bingroup": "x",
         "hovertemplate": "English Name=Turnip<br>Average Price (Rs.)=%{x}<br>count=%{y}<extra></extra>",
         "legendgroup": "Turnip",
         "marker": {
          "color": "#FF97FF",
          "pattern": {
           "shape": ""
          }
         },
         "name": "Turnip",
         "offsetgroup": "Turnip",
         "orientation": "v",
         "showlegend": true,
         "type": "histogram",
         "x": [
          85
         ],
         "xaxis": "x",
         "yaxis": "y"
        },
        {
         "alignmentgroup": "True",
         "bingroup": "x",
         "hovertemplate": "English Name=Turnip A<br>Average Price (Rs.)=%{x}<br>count=%{y}<extra></extra>",
         "legendgroup": "Turnip A",
         "marker": {
          "color": "#FECB52",
          "pattern": {
           "shape": ""
          }
         },
         "name": "Turnip A",
         "offsetgroup": "Turnip A",
         "orientation": "v",
         "showlegend": true,
         "type": "histogram",
         "x": [
          85
         ],
         "xaxis": "x",
         "yaxis": "y"
        },
        {
         "alignmentgroup": "True",
         "bingroup": "x",
         "hovertemplate": "English Name=Water Melon(Green)<br>Average Price (Rs.)=%{x}<br>count=%{y}<extra></extra>",
         "legendgroup": "Water Melon(Green)",
         "marker": {
          "color": "#636efa",
          "pattern": {
           "shape": ""
          }
         },
         "name": "Water Melon(Green)",
         "offsetgroup": "Water Melon(Green)",
         "orientation": "v",
         "showlegend": true,
         "type": "histogram",
         "x": [
          45
         ],
         "xaxis": "x",
         "yaxis": "y"
        }
       ],
       "layout": {
        "barmode": "relative",
        "legend": {
         "title": {
          "text": "English Name"
         },
         "tracegroupgap": 0
        },
        "template": {
         "data": {
          "bar": [
           {
            "error_x": {
             "color": "#2a3f5f"
            },
            "error_y": {
             "color": "#2a3f5f"
            },
            "marker": {
             "line": {
              "color": "#E5ECF6",
              "width": 0.5
             },
             "pattern": {
              "fillmode": "overlay",
              "size": 10,
              "solidity": 0.2
             }
            },
            "type": "bar"
           }
          ],
          "barpolar": [
           {
            "marker": {
             "line": {
              "color": "#E5ECF6",
              "width": 0.5
             },
             "pattern": {
              "fillmode": "overlay",
              "size": 10,
              "solidity": 0.2
             }
            },
            "type": "barpolar"
           }
          ],
          "carpet": [
           {
            "aaxis": {
             "endlinecolor": "#2a3f5f",
             "gridcolor": "white",
             "linecolor": "white",
             "minorgridcolor": "white",
             "startlinecolor": "#2a3f5f"
            },
            "baxis": {
             "endlinecolor": "#2a3f5f",
             "gridcolor": "white",
             "linecolor": "white",
             "minorgridcolor": "white",
             "startlinecolor": "#2a3f5f"
            },
            "type": "carpet"
           }
          ],
          "choropleth": [
           {
            "colorbar": {
             "outlinewidth": 0,
             "ticks": ""
            },
            "type": "choropleth"
           }
          ],
          "contour": [
           {
            "colorbar": {
             "outlinewidth": 0,
             "ticks": ""
            },
            "colorscale": [
             [
              0,
              "#0d0887"
             ],
             [
              0.1111111111111111,
              "#46039f"
             ],
             [
              0.2222222222222222,
              "#7201a8"
             ],
             [
              0.3333333333333333,
              "#9c179e"
             ],
             [
              0.4444444444444444,
              "#bd3786"
             ],
             [
              0.5555555555555556,
              "#d8576b"
             ],
             [
              0.6666666666666666,
              "#ed7953"
             ],
             [
              0.7777777777777778,
              "#fb9f3a"
             ],
             [
              0.8888888888888888,
              "#fdca26"
             ],
             [
              1,
              "#f0f921"
             ]
            ],
            "type": "contour"
           }
          ],
          "contourcarpet": [
           {
            "colorbar": {
             "outlinewidth": 0,
             "ticks": ""
            },
            "type": "contourcarpet"
           }
          ],
          "heatmap": [
           {
            "colorbar": {
             "outlinewidth": 0,
             "ticks": ""
            },
            "colorscale": [
             [
              0,
              "#0d0887"
             ],
             [
              0.1111111111111111,
              "#46039f"
             ],
             [
              0.2222222222222222,
              "#7201a8"
             ],
             [
              0.3333333333333333,
              "#9c179e"
             ],
             [
              0.4444444444444444,
              "#bd3786"
             ],
             [
              0.5555555555555556,
              "#d8576b"
             ],
             [
              0.6666666666666666,
              "#ed7953"
             ],
             [
              0.7777777777777778,
              "#fb9f3a"
             ],
             [
              0.8888888888888888,
              "#fdca26"
             ],
             [
              1,
              "#f0f921"
             ]
            ],
            "type": "heatmap"
           }
          ],
          "heatmapgl": [
           {
            "colorbar": {
             "outlinewidth": 0,
             "ticks": ""
            },
            "colorscale": [
             [
              0,
              "#0d0887"
             ],
             [
              0.1111111111111111,
              "#46039f"
             ],
             [
              0.2222222222222222,
              "#7201a8"
             ],
             [
              0.3333333333333333,
              "#9c179e"
             ],
             [
              0.4444444444444444,
              "#bd3786"
             ],
             [
              0.5555555555555556,
              "#d8576b"
             ],
             [
              0.6666666666666666,
              "#ed7953"
             ],
             [
              0.7777777777777778,
              "#fb9f3a"
             ],
             [
              0.8888888888888888,
              "#fdca26"
             ],
             [
              1,
              "#f0f921"
             ]
            ],
            "type": "heatmapgl"
           }
          ],
          "histogram": [
           {
            "marker": {
             "pattern": {
              "fillmode": "overlay",
              "size": 10,
              "solidity": 0.2
             }
            },
            "type": "histogram"
           }
          ],
          "histogram2d": [
           {
            "colorbar": {
             "outlinewidth": 0,
             "ticks": ""
            },
            "colorscale": [
             [
              0,
              "#0d0887"
             ],
             [
              0.1111111111111111,
              "#46039f"
             ],
             [
              0.2222222222222222,
              "#7201a8"
             ],
             [
              0.3333333333333333,
              "#9c179e"
             ],
             [
              0.4444444444444444,
              "#bd3786"
             ],
             [
              0.5555555555555556,
              "#d8576b"
             ],
             [
              0.6666666666666666,
              "#ed7953"
             ],
             [
              0.7777777777777778,
              "#fb9f3a"
             ],
             [
              0.8888888888888888,
              "#fdca26"
             ],
             [
              1,
              "#f0f921"
             ]
            ],
            "type": "histogram2d"
           }
          ],
          "histogram2dcontour": [
           {
            "colorbar": {
             "outlinewidth": 0,
             "ticks": ""
            },
            "colorscale": [
             [
              0,
              "#0d0887"
             ],
             [
              0.1111111111111111,
              "#46039f"
             ],
             [
              0.2222222222222222,
              "#7201a8"
             ],
             [
              0.3333333333333333,
              "#9c179e"
             ],
             [
              0.4444444444444444,
              "#bd3786"
             ],
             [
              0.5555555555555556,
              "#d8576b"
             ],
             [
              0.6666666666666666,
              "#ed7953"
             ],
             [
              0.7777777777777778,
              "#fb9f3a"
             ],
             [
              0.8888888888888888,
              "#fdca26"
             ],
             [
              1,
              "#f0f921"
             ]
            ],
            "type": "histogram2dcontour"
           }
          ],
          "mesh3d": [
           {
            "colorbar": {
             "outlinewidth": 0,
             "ticks": ""
            },
            "type": "mesh3d"
           }
          ],
          "parcoords": [
           {
            "line": {
             "colorbar": {
              "outlinewidth": 0,
              "ticks": ""
             }
            },
            "type": "parcoords"
           }
          ],
          "pie": [
           {
            "automargin": true,
            "type": "pie"
           }
          ],
          "scatter": [
           {
            "marker": {
             "colorbar": {
              "outlinewidth": 0,
              "ticks": ""
             }
            },
            "type": "scatter"
           }
          ],
          "scatter3d": [
           {
            "line": {
             "colorbar": {
              "outlinewidth": 0,
              "ticks": ""
             }
            },
            "marker": {
             "colorbar": {
              "outlinewidth": 0,
              "ticks": ""
             }
            },
            "type": "scatter3d"
           }
          ],
          "scattercarpet": [
           {
            "marker": {
             "colorbar": {
              "outlinewidth": 0,
              "ticks": ""
             }
            },
            "type": "scattercarpet"
           }
          ],
          "scattergeo": [
           {
            "marker": {
             "colorbar": {
              "outlinewidth": 0,
              "ticks": ""
             }
            },
            "type": "scattergeo"
           }
          ],
          "scattergl": [
           {
            "marker": {
             "colorbar": {
              "outlinewidth": 0,
              "ticks": ""
             }
            },
            "type": "scattergl"
           }
          ],
          "scattermapbox": [
           {
            "marker": {
             "colorbar": {
              "outlinewidth": 0,
              "ticks": ""
             }
            },
            "type": "scattermapbox"
           }
          ],
          "scatterpolar": [
           {
            "marker": {
             "colorbar": {
              "outlinewidth": 0,
              "ticks": ""
             }
            },
            "type": "scatterpolar"
           }
          ],
          "scatterpolargl": [
           {
            "marker": {
             "colorbar": {
              "outlinewidth": 0,
              "ticks": ""
             }
            },
            "type": "scatterpolargl"
           }
          ],
          "scatterternary": [
           {
            "marker": {
             "colorbar": {
              "outlinewidth": 0,
              "ticks": ""
             }
            },
            "type": "scatterternary"
           }
          ],
          "surface": [
           {
            "colorbar": {
             "outlinewidth": 0,
             "ticks": ""
            },
            "colorscale": [
             [
              0,
              "#0d0887"
             ],
             [
              0.1111111111111111,
              "#46039f"
             ],
             [
              0.2222222222222222,
              "#7201a8"
             ],
             [
              0.3333333333333333,
              "#9c179e"
             ],
             [
              0.4444444444444444,
              "#bd3786"
             ],
             [
              0.5555555555555556,
              "#d8576b"
             ],
             [
              0.6666666666666666,
              "#ed7953"
             ],
             [
              0.7777777777777778,
              "#fb9f3a"
             ],
             [
              0.8888888888888888,
              "#fdca26"
             ],
             [
              1,
              "#f0f921"
             ]
            ],
            "type": "surface"
           }
          ],
          "table": [
           {
            "cells": {
             "fill": {
              "color": "#EBF0F8"
             },
             "line": {
              "color": "white"
             }
            },
            "header": {
             "fill": {
              "color": "#C8D4E3"
             },
             "line": {
              "color": "white"
             }
            },
            "type": "table"
           }
          ]
         },
         "layout": {
          "annotationdefaults": {
           "arrowcolor": "#2a3f5f",
           "arrowhead": 0,
           "arrowwidth": 1
          },
          "autotypenumbers": "strict",
          "coloraxis": {
           "colorbar": {
            "outlinewidth": 0,
            "ticks": ""
           }
          },
          "colorscale": {
           "diverging": [
            [
             0,
             "#8e0152"
            ],
            [
             0.1,
             "#c51b7d"
            ],
            [
             0.2,
             "#de77ae"
            ],
            [
             0.3,
             "#f1b6da"
            ],
            [
             0.4,
             "#fde0ef"
            ],
            [
             0.5,
             "#f7f7f7"
            ],
            [
             0.6,
             "#e6f5d0"
            ],
            [
             0.7,
             "#b8e186"
            ],
            [
             0.8,
             "#7fbc41"
            ],
            [
             0.9,
             "#4d9221"
            ],
            [
             1,
             "#276419"
            ]
           ],
           "sequential": [
            [
             0,
             "#0d0887"
            ],
            [
             0.1111111111111111,
             "#46039f"
            ],
            [
             0.2222222222222222,
             "#7201a8"
            ],
            [
             0.3333333333333333,
             "#9c179e"
            ],
            [
             0.4444444444444444,
             "#bd3786"
            ],
            [
             0.5555555555555556,
             "#d8576b"
            ],
            [
             0.6666666666666666,
             "#ed7953"
            ],
            [
             0.7777777777777778,
             "#fb9f3a"
            ],
            [
             0.8888888888888888,
             "#fdca26"
            ],
            [
             1,
             "#f0f921"
            ]
           ],
           "sequentialminus": [
            [
             0,
             "#0d0887"
            ],
            [
             0.1111111111111111,
             "#46039f"
            ],
            [
             0.2222222222222222,
             "#7201a8"
            ],
            [
             0.3333333333333333,
             "#9c179e"
            ],
            [
             0.4444444444444444,
             "#bd3786"
            ],
            [
             0.5555555555555556,
             "#d8576b"
            ],
            [
             0.6666666666666666,
             "#ed7953"
            ],
            [
             0.7777777777777778,
             "#fb9f3a"
            ],
            [
             0.8888888888888888,
             "#fdca26"
            ],
            [
             1,
             "#f0f921"
            ]
           ]
          },
          "colorway": [
           "#636efa",
           "#EF553B",
           "#00cc96",
           "#ab63fa",
           "#FFA15A",
           "#19d3f3",
           "#FF6692",
           "#B6E880",
           "#FF97FF",
           "#FECB52"
          ],
          "font": {
           "color": "#2a3f5f"
          },
          "geo": {
           "bgcolor": "white",
           "lakecolor": "white",
           "landcolor": "#E5ECF6",
           "showlakes": true,
           "showland": true,
           "subunitcolor": "white"
          },
          "hoverlabel": {
           "align": "left"
          },
          "hovermode": "closest",
          "mapbox": {
           "style": "light"
          },
          "paper_bgcolor": "white",
          "plot_bgcolor": "#E5ECF6",
          "polar": {
           "angularaxis": {
            "gridcolor": "white",
            "linecolor": "white",
            "ticks": ""
           },
           "bgcolor": "#E5ECF6",
           "radialaxis": {
            "gridcolor": "white",
            "linecolor": "white",
            "ticks": ""
           }
          },
          "scene": {
           "xaxis": {
            "backgroundcolor": "#E5ECF6",
            "gridcolor": "white",
            "gridwidth": 2,
            "linecolor": "white",
            "showbackground": true,
            "ticks": "",
            "zerolinecolor": "white"
           },
           "yaxis": {
            "backgroundcolor": "#E5ECF6",
            "gridcolor": "white",
            "gridwidth": 2,
            "linecolor": "white",
            "showbackground": true,
            "ticks": "",
            "zerolinecolor": "white"
           },
           "zaxis": {
            "backgroundcolor": "#E5ECF6",
            "gridcolor": "white",
            "gridwidth": 2,
            "linecolor": "white",
            "showbackground": true,
            "ticks": "",
            "zerolinecolor": "white"
           }
          },
          "shapedefaults": {
           "line": {
            "color": "#2a3f5f"
           }
          },
          "ternary": {
           "aaxis": {
            "gridcolor": "white",
            "linecolor": "white",
            "ticks": ""
           },
           "baxis": {
            "gridcolor": "white",
            "linecolor": "white",
            "ticks": ""
           },
           "bgcolor": "#E5ECF6",
           "caxis": {
            "gridcolor": "white",
            "linecolor": "white",
            "ticks": ""
           }
          },
          "title": {
           "x": 0.05
          },
          "xaxis": {
           "automargin": true,
           "gridcolor": "white",
           "linecolor": "white",
           "ticks": "",
           "title": {
            "standoff": 15
           },
           "zerolinecolor": "white",
           "zerolinewidth": 2
          },
          "yaxis": {
           "automargin": true,
           "gridcolor": "white",
           "linecolor": "white",
           "ticks": "",
           "title": {
            "standoff": 15
           },
           "zerolinecolor": "white",
           "zerolinewidth": 2
          }
         }
        },
        "title": {
         "text": "Prices compared to Average Kamilati Price"
        },
        "xaxis": {
         "anchor": "y",
         "domain": [
          0,
          1
         ],
         "title": {
          "text": "Average Price (Rs.)"
         }
        },
        "yaxis": {
         "anchor": "x",
         "domain": [
          0,
          1
         ],
         "title": {
          "text": "count"
         }
        }
       }
      },
      "text/html": [
       "<div>                            <div id=\"4618f164-bcc8-4f7d-b089-f5c5f710e6e5\" class=\"plotly-graph-div\" style=\"height:525px; width:100%;\"></div>            <script type=\"text/javascript\">                require([\"plotly\"], function(Plotly) {                    window.PLOTLYENV=window.PLOTLYENV || {};                                    if (document.getElementById(\"4618f164-bcc8-4f7d-b089-f5c5f710e6e5\")) {                    Plotly.newPlot(                        \"4618f164-bcc8-4f7d-b089-f5c5f710e6e5\",                        [{\"alignmentgroup\":\"True\",\"bingroup\":\"x\",\"hovertemplate\":\"English Name=Apple(Fuji)<br>Average Price (Rs.)=%{x}<br>count=%{y}<extra></extra>\",\"legendgroup\":\"Apple(Fuji)\",\"marker\":{\"color\":\"#636efa\",\"pattern\":{\"shape\":\"\"}},\"name\":\"Apple(Fuji)\",\"offsetgroup\":\"Apple(Fuji)\",\"orientation\":\"v\",\"showlegend\":true,\"type\":\"histogram\",\"x\":[195.0],\"xaxis\":\"x\",\"yaxis\":\"y\"},{\"alignmentgroup\":\"True\",\"bingroup\":\"x\",\"hovertemplate\":\"English Name=Apple(Jholey)<br>Average Price (Rs.)=%{x}<br>count=%{y}<extra></extra>\",\"legendgroup\":\"Apple(Jholey)\",\"marker\":{\"color\":\"#EF553B\",\"pattern\":{\"shape\":\"\"}},\"name\":\"Apple(Jholey)\",\"offsetgroup\":\"Apple(Jholey)\",\"orientation\":\"v\",\"showlegend\":true,\"type\":\"histogram\",\"x\":[195.0],\"xaxis\":\"x\",\"yaxis\":\"y\"},{\"alignmentgroup\":\"True\",\"bingroup\":\"x\",\"hovertemplate\":\"English Name=Arum<br>Average Price (Rs.)=%{x}<br>count=%{y}<extra></extra>\",\"legendgroup\":\"Arum\",\"marker\":{\"color\":\"#00cc96\",\"pattern\":{\"shape\":\"\"}},\"name\":\"Arum\",\"offsetgroup\":\"Arum\",\"orientation\":\"v\",\"showlegend\":true,\"type\":\"histogram\",\"x\":[45.0],\"xaxis\":\"x\",\"yaxis\":\"y\"},{\"alignmentgroup\":\"True\",\"bingroup\":\"x\",\"hovertemplate\":\"English Name=Asparagus<br>Average Price (Rs.)=%{x}<br>count=%{y}<extra></extra>\",\"legendgroup\":\"Asparagus\",\"marker\":{\"color\":\"#ab63fa\",\"pattern\":{\"shape\":\"\"}},\"name\":\"Asparagus\",\"offsetgroup\":\"Asparagus\",\"orientation\":\"v\",\"showlegend\":true,\"type\":\"histogram\",\"x\":[750.0],\"xaxis\":\"x\",\"yaxis\":\"y\"},{\"alignmentgroup\":\"True\",\"bingroup\":\"x\",\"hovertemplate\":\"English Name=Bamboo Shoot<br>Average Price (Rs.)=%{x}<br>count=%{y}<extra></extra>\",\"legendgroup\":\"Bamboo Shoot\",\"marker\":{\"color\":\"#FFA15A\",\"pattern\":{\"shape\":\"\"}},\"name\":\"Bamboo Shoot\",\"offsetgroup\":\"Bamboo Shoot\",\"orientation\":\"v\",\"showlegend\":true,\"type\":\"histogram\",\"x\":[95.0],\"xaxis\":\"x\",\"yaxis\":\"y\"},{\"alignmentgroup\":\"True\",\"bingroup\":\"x\",\"hovertemplate\":\"English Name=Banana<br>Average Price (Rs.)=%{x}<br>count=%{y}<extra></extra>\",\"legendgroup\":\"Banana\",\"marker\":{\"color\":\"#19d3f3\",\"pattern\":{\"shape\":\"\"}},\"name\":\"Banana\",\"offsetgroup\":\"Banana\",\"orientation\":\"v\",\"showlegend\":true,\"type\":\"histogram\",\"x\":[105.0],\"xaxis\":\"x\",\"yaxis\":\"y\"},{\"alignmentgroup\":\"True\",\"bingroup\":\"x\",\"hovertemplate\":\"English Name=Bitter Gourd<br>Average Price (Rs.)=%{x}<br>count=%{y}<extra></extra>\",\"legendgroup\":\"Bitter Gourd\",\"marker\":{\"color\":\"#FF6692\",\"pattern\":{\"shape\":\"\"}},\"name\":\"Bitter Gourd\",\"offsetgroup\":\"Bitter Gourd\",\"orientation\":\"v\",\"showlegend\":true,\"type\":\"histogram\",\"x\":[65.0],\"xaxis\":\"x\",\"yaxis\":\"y\"},{\"alignmentgroup\":\"True\",\"bingroup\":\"x\",\"hovertemplate\":\"English Name=Bottle Gourd<br>Average Price (Rs.)=%{x}<br>count=%{y}<extra></extra>\",\"legendgroup\":\"Bottle Gourd\",\"marker\":{\"color\":\"#B6E880\",\"pattern\":{\"shape\":\"\"}},\"name\":\"Bottle Gourd\",\"offsetgroup\":\"Bottle Gourd\",\"orientation\":\"v\",\"showlegend\":true,\"type\":\"histogram\",\"x\":[45.0],\"xaxis\":\"x\",\"yaxis\":\"y\"},{\"alignmentgroup\":\"True\",\"bingroup\":\"x\",\"hovertemplate\":\"English Name=Brd Leaf Mustard<br>Average Price (Rs.)=%{x}<br>count=%{y}<extra></extra>\",\"legendgroup\":\"Brd Leaf Mustard\",\"marker\":{\"color\":\"#FF97FF\",\"pattern\":{\"shape\":\"\"}},\"name\":\"Brd Leaf Mustard\",\"offsetgroup\":\"Brd Leaf Mustard\",\"orientation\":\"v\",\"showlegend\":true,\"type\":\"histogram\",\"x\":[190.0],\"xaxis\":\"x\",\"yaxis\":\"y\"},{\"alignmentgroup\":\"True\",\"bingroup\":\"x\",\"hovertemplate\":\"English Name=Brinjal Long<br>Average Price (Rs.)=%{x}<br>count=%{y}<extra></extra>\",\"legendgroup\":\"Brinjal Long\",\"marker\":{\"color\":\"#FECB52\",\"pattern\":{\"shape\":\"\"}},\"name\":\"Brinjal Long\",\"offsetgroup\":\"Brinjal Long\",\"orientation\":\"v\",\"showlegend\":true,\"type\":\"histogram\",\"x\":[35.0],\"xaxis\":\"x\",\"yaxis\":\"y\"},{\"alignmentgroup\":\"True\",\"bingroup\":\"x\",\"hovertemplate\":\"English Name=Brinjal Round<br>Average Price (Rs.)=%{x}<br>count=%{y}<extra></extra>\",\"legendgroup\":\"Brinjal Round\",\"marker\":{\"color\":\"#636efa\",\"pattern\":{\"shape\":\"\"}},\"name\":\"Brinjal Round\",\"offsetgroup\":\"Brinjal Round\",\"orientation\":\"v\",\"showlegend\":true,\"type\":\"histogram\",\"x\":[65.0],\"xaxis\":\"x\",\"yaxis\":\"y\"},{\"alignmentgroup\":\"True\",\"bingroup\":\"x\",\"hovertemplate\":\"English Name=Brocauli<br>Average Price (Rs.)=%{x}<br>count=%{y}<extra></extra>\",\"legendgroup\":\"Brocauli\",\"marker\":{\"color\":\"#EF553B\",\"pattern\":{\"shape\":\"\"}},\"name\":\"Brocauli\",\"offsetgroup\":\"Brocauli\",\"orientation\":\"v\",\"showlegend\":true,\"type\":\"histogram\",\"x\":[225.0],\"xaxis\":\"x\",\"yaxis\":\"y\"},{\"alignmentgroup\":\"True\",\"bingroup\":\"x\",\"hovertemplate\":\"English Name=Cabbage(Local)<br>Average Price (Rs.)=%{x}<br>count=%{y}<extra></extra>\",\"legendgroup\":\"Cabbage(Local)\",\"marker\":{\"color\":\"#00cc96\",\"pattern\":{\"shape\":\"\"}},\"name\":\"Cabbage(Local)\",\"offsetgroup\":\"Cabbage(Local)\",\"orientation\":\"v\",\"showlegend\":true,\"type\":\"histogram\",\"x\":[40.0],\"xaxis\":\"x\",\"yaxis\":\"y\"},{\"alignmentgroup\":\"True\",\"bingroup\":\"x\",\"hovertemplate\":\"English Name=Capsicum<br>Average Price (Rs.)=%{x}<br>count=%{y}<extra></extra>\",\"legendgroup\":\"Capsicum\",\"marker\":{\"color\":\"#ab63fa\",\"pattern\":{\"shape\":\"\"}},\"name\":\"Capsicum\",\"offsetgroup\":\"Capsicum\",\"orientation\":\"v\",\"showlegend\":true,\"type\":\"histogram\",\"x\":[110.0],\"xaxis\":\"x\",\"yaxis\":\"y\"},{\"alignmentgroup\":\"True\",\"bingroup\":\"x\",\"hovertemplate\":\"English Name=Carrot(Local)<br>Average Price (Rs.)=%{x}<br>count=%{y}<extra></extra>\",\"legendgroup\":\"Carrot(Local)\",\"marker\":{\"color\":\"#FFA15A\",\"pattern\":{\"shape\":\"\"}},\"name\":\"Carrot(Local)\",\"offsetgroup\":\"Carrot(Local)\",\"orientation\":\"v\",\"showlegend\":true,\"type\":\"histogram\",\"x\":[150.0],\"xaxis\":\"x\",\"yaxis\":\"y\"},{\"alignmentgroup\":\"True\",\"bingroup\":\"x\",\"hovertemplate\":\"English Name=Carrot(Terai)<br>Average Price (Rs.)=%{x}<br>count=%{y}<extra></extra>\",\"legendgroup\":\"Carrot(Terai)\",\"marker\":{\"color\":\"#19d3f3\",\"pattern\":{\"shape\":\"\"}},\"name\":\"Carrot(Terai)\",\"offsetgroup\":\"Carrot(Terai)\",\"orientation\":\"v\",\"showlegend\":true,\"type\":\"histogram\",\"x\":[135.0],\"xaxis\":\"x\",\"yaxis\":\"y\"},{\"alignmentgroup\":\"True\",\"bingroup\":\"x\",\"hovertemplate\":\"English Name=Cauli Local<br>Average Price (Rs.)=%{x}<br>count=%{y}<extra></extra>\",\"legendgroup\":\"Cauli Local\",\"marker\":{\"color\":\"#FF6692\",\"pattern\":{\"shape\":\"\"}},\"name\":\"Cauli Local\",\"offsetgroup\":\"Cauli Local\",\"orientation\":\"v\",\"showlegend\":true,\"type\":\"histogram\",\"x\":[95.0],\"xaxis\":\"x\",\"yaxis\":\"y\"},{\"alignmentgroup\":\"True\",\"bingroup\":\"x\",\"hovertemplate\":\"English Name=Celery<br>Average Price (Rs.)=%{x}<br>count=%{y}<extra></extra>\",\"legendgroup\":\"Celery\",\"marker\":{\"color\":\"#B6E880\",\"pattern\":{\"shape\":\"\"}},\"name\":\"Celery\",\"offsetgroup\":\"Celery\",\"orientation\":\"v\",\"showlegend\":true,\"type\":\"histogram\",\"x\":[425.0],\"xaxis\":\"x\",\"yaxis\":\"y\"},{\"alignmentgroup\":\"True\",\"bingroup\":\"x\",\"hovertemplate\":\"English Name=Chilli Dry<br>Average Price (Rs.)=%{x}<br>count=%{y}<extra></extra>\",\"legendgroup\":\"Chilli Dry\",\"marker\":{\"color\":\"#FF97FF\",\"pattern\":{\"shape\":\"\"}},\"name\":\"Chilli Dry\",\"offsetgroup\":\"Chilli Dry\",\"orientation\":\"v\",\"showlegend\":true,\"type\":\"histogram\",\"x\":[310.0],\"xaxis\":\"x\",\"yaxis\":\"y\"},{\"alignmentgroup\":\"True\",\"bingroup\":\"x\",\"hovertemplate\":\"English Name=Chilli Green<br>Average Price (Rs.)=%{x}<br>count=%{y}<extra></extra>\",\"legendgroup\":\"Chilli Green\",\"marker\":{\"color\":\"#FECB52\",\"pattern\":{\"shape\":\"\"}},\"name\":\"Chilli Green\",\"offsetgroup\":\"Chilli Green\",\"orientation\":\"v\",\"showlegend\":true,\"type\":\"histogram\",\"x\":[85.0],\"xaxis\":\"x\",\"yaxis\":\"y\"},{\"alignmentgroup\":\"True\",\"bingroup\":\"x\",\"hovertemplate\":\"English Name=Chilli Green(Akbare)<br>Average Price (Rs.)=%{x}<br>count=%{y}<extra></extra>\",\"legendgroup\":\"Chilli Green(Akbare)\",\"marker\":{\"color\":\"#636efa\",\"pattern\":{\"shape\":\"\"}},\"name\":\"Chilli Green(Akbare)\",\"offsetgroup\":\"Chilli Green(Akbare)\",\"orientation\":\"v\",\"showlegend\":true,\"type\":\"histogram\",\"x\":[175.0],\"xaxis\":\"x\",\"yaxis\":\"y\"},{\"alignmentgroup\":\"True\",\"bingroup\":\"x\",\"hovertemplate\":\"English Name=Chilli Green(Bullet)<br>Average Price (Rs.)=%{x}<br>count=%{y}<extra></extra>\",\"legendgroup\":\"Chilli Green(Bullet)\",\"marker\":{\"color\":\"#EF553B\",\"pattern\":{\"shape\":\"\"}},\"name\":\"Chilli Green(Bullet)\",\"offsetgroup\":\"Chilli Green(Bullet)\",\"orientation\":\"v\",\"showlegend\":true,\"type\":\"histogram\",\"x\":[115.0],\"xaxis\":\"x\",\"yaxis\":\"y\"},{\"alignmentgroup\":\"True\",\"bingroup\":\"x\",\"hovertemplate\":\"English Name=Chilli Green(Machhe)<br>Average Price (Rs.)=%{x}<br>count=%{y}<extra></extra>\",\"legendgroup\":\"Chilli Green(Machhe)\",\"marker\":{\"color\":\"#00cc96\",\"pattern\":{\"shape\":\"\"}},\"name\":\"Chilli Green(Machhe)\",\"offsetgroup\":\"Chilli Green(Machhe)\",\"orientation\":\"v\",\"showlegend\":true,\"type\":\"histogram\",\"x\":[55.0],\"xaxis\":\"x\",\"yaxis\":\"y\"},{\"alignmentgroup\":\"True\",\"bingroup\":\"x\",\"hovertemplate\":\"English Name=Christophine<br>Average Price (Rs.)=%{x}<br>count=%{y}<extra></extra>\",\"legendgroup\":\"Christophine\",\"marker\":{\"color\":\"#ab63fa\",\"pattern\":{\"shape\":\"\"}},\"name\":\"Christophine\",\"offsetgroup\":\"Christophine\",\"orientation\":\"v\",\"showlegend\":true,\"type\":\"histogram\",\"x\":[12.5],\"xaxis\":\"x\",\"yaxis\":\"y\"},{\"alignmentgroup\":\"True\",\"bingroup\":\"x\",\"hovertemplate\":\"English Name=Clive Dry<br>Average Price (Rs.)=%{x}<br>count=%{y}<extra></extra>\",\"legendgroup\":\"Clive Dry\",\"marker\":{\"color\":\"#FFA15A\",\"pattern\":{\"shape\":\"\"}},\"name\":\"Clive Dry\",\"offsetgroup\":\"Clive Dry\",\"orientation\":\"v\",\"showlegend\":true,\"type\":\"histogram\",\"x\":[290.0],\"xaxis\":\"x\",\"yaxis\":\"y\"},{\"alignmentgroup\":\"True\",\"bingroup\":\"x\",\"hovertemplate\":\"English Name=Clive Green<br>Average Price (Rs.)=%{x}<br>count=%{y}<extra></extra>\",\"legendgroup\":\"Clive Green\",\"marker\":{\"color\":\"#19d3f3\",\"pattern\":{\"shape\":\"\"}},\"name\":\"Clive Green\",\"offsetgroup\":\"Clive Green\",\"orientation\":\"v\",\"showlegend\":true,\"type\":\"histogram\",\"x\":[335.0],\"xaxis\":\"x\",\"yaxis\":\"y\"},{\"alignmentgroup\":\"True\",\"bingroup\":\"x\",\"hovertemplate\":\"English Name=Coriander Green<br>Average Price (Rs.)=%{x}<br>count=%{y}<extra></extra>\",\"legendgroup\":\"Coriander Green\",\"marker\":{\"color\":\"#FF6692\",\"pattern\":{\"shape\":\"\"}},\"name\":\"Coriander Green\",\"offsetgroup\":\"Coriander Green\",\"orientation\":\"v\",\"showlegend\":true,\"type\":\"histogram\",\"x\":[450.0],\"xaxis\":\"x\",\"yaxis\":\"y\"},{\"alignmentgroup\":\"True\",\"bingroup\":\"x\",\"hovertemplate\":\"English Name=Cow pea(Long)<br>Average Price (Rs.)=%{x}<br>count=%{y}<extra></extra>\",\"legendgroup\":\"Cow pea(Long)\",\"marker\":{\"color\":\"#B6E880\",\"pattern\":{\"shape\":\"\"}},\"name\":\"Cow pea(Long)\",\"offsetgroup\":\"Cow pea(Long)\",\"orientation\":\"v\",\"showlegend\":true,\"type\":\"histogram\",\"x\":[90.0],\"xaxis\":\"x\",\"yaxis\":\"y\"},{\"alignmentgroup\":\"True\",\"bingroup\":\"x\",\"hovertemplate\":\"English Name=Cowpea(Short)<br>Average Price (Rs.)=%{x}<br>count=%{y}<extra></extra>\",\"legendgroup\":\"Cowpea(Short)\",\"marker\":{\"color\":\"#FF97FF\",\"pattern\":{\"shape\":\"\"}},\"name\":\"Cowpea(Short)\",\"offsetgroup\":\"Cowpea(Short)\",\"orientation\":\"v\",\"showlegend\":true,\"type\":\"histogram\",\"x\":[105.0],\"xaxis\":\"x\",\"yaxis\":\"y\"},{\"alignmentgroup\":\"True\",\"bingroup\":\"x\",\"hovertemplate\":\"English Name=Cress Leaf<br>Average Price (Rs.)=%{x}<br>count=%{y}<extra></extra>\",\"legendgroup\":\"Cress Leaf\",\"marker\":{\"color\":\"#FECB52\",\"pattern\":{\"shape\":\"\"}},\"name\":\"Cress Leaf\",\"offsetgroup\":\"Cress Leaf\",\"orientation\":\"v\",\"showlegend\":true,\"type\":\"histogram\",\"x\":[290.0],\"xaxis\":\"x\",\"yaxis\":\"y\"},{\"alignmentgroup\":\"True\",\"bingroup\":\"x\",\"hovertemplate\":\"English Name=Cucumber(Hybrid)<br>Average Price (Rs.)=%{x}<br>count=%{y}<extra></extra>\",\"legendgroup\":\"Cucumber(Hybrid)\",\"marker\":{\"color\":\"#636efa\",\"pattern\":{\"shape\":\"\"}},\"name\":\"Cucumber(Hybrid)\",\"offsetgroup\":\"Cucumber(Hybrid)\",\"orientation\":\"v\",\"showlegend\":true,\"type\":\"histogram\",\"x\":[25.0],\"xaxis\":\"x\",\"yaxis\":\"y\"},{\"alignmentgroup\":\"True\",\"bingroup\":\"x\",\"hovertemplate\":\"English Name=Cucumber(Local)<br>Average Price (Rs.)=%{x}<br>count=%{y}<extra></extra>\",\"legendgroup\":\"Cucumber(Local)\",\"marker\":{\"color\":\"#EF553B\",\"pattern\":{\"shape\":\"\"}},\"name\":\"Cucumber(Local)\",\"offsetgroup\":\"Cucumber(Local)\",\"orientation\":\"v\",\"showlegend\":true,\"type\":\"histogram\",\"x\":[60.0],\"xaxis\":\"x\",\"yaxis\":\"y\"},{\"alignmentgroup\":\"True\",\"bingroup\":\"x\",\"hovertemplate\":\"English Name=Drumstick<br>Average Price (Rs.)=%{x}<br>count=%{y}<extra></extra>\",\"legendgroup\":\"Drumstick\",\"marker\":{\"color\":\"#00cc96\",\"pattern\":{\"shape\":\"\"}},\"name\":\"Drumstick\",\"offsetgroup\":\"Drumstick\",\"orientation\":\"v\",\"showlegend\":true,\"type\":\"histogram\",\"x\":[190.0],\"xaxis\":\"x\",\"yaxis\":\"y\"},{\"alignmentgroup\":\"True\",\"bingroup\":\"x\",\"hovertemplate\":\"English Name=Fish Fresh(Bachuwa)<br>Average Price (Rs.)=%{x}<br>count=%{y}<extra></extra>\",\"legendgroup\":\"Fish Fresh(Bachuwa)\",\"marker\":{\"color\":\"#ab63fa\",\"pattern\":{\"shape\":\"\"}},\"name\":\"Fish Fresh(Bachuwa)\",\"offsetgroup\":\"Fish Fresh(Bachuwa)\",\"orientation\":\"v\",\"showlegend\":true,\"type\":\"histogram\",\"x\":[230.0],\"xaxis\":\"x\",\"yaxis\":\"y\"},{\"alignmentgroup\":\"True\",\"bingroup\":\"x\",\"hovertemplate\":\"English Name=Fish Fresh(Chhadi)<br>Average Price (Rs.)=%{x}<br>count=%{y}<extra></extra>\",\"legendgroup\":\"Fish Fresh(Chhadi)\",\"marker\":{\"color\":\"#FFA15A\",\"pattern\":{\"shape\":\"\"}},\"name\":\"Fish Fresh(Chhadi)\",\"offsetgroup\":\"Fish Fresh(Chhadi)\",\"orientation\":\"v\",\"showlegend\":true,\"type\":\"histogram\",\"x\":[225.0],\"xaxis\":\"x\",\"yaxis\":\"y\"},{\"alignmentgroup\":\"True\",\"bingroup\":\"x\",\"hovertemplate\":\"English Name=Fish Fresh(Mungari)<br>Average Price (Rs.)=%{x}<br>count=%{y}<extra></extra>\",\"legendgroup\":\"Fish Fresh(Mungari)\",\"marker\":{\"color\":\"#19d3f3\",\"pattern\":{\"shape\":\"\"}},\"name\":\"Fish Fresh(Mungari)\",\"offsetgroup\":\"Fish Fresh(Mungari)\",\"orientation\":\"v\",\"showlegend\":true,\"type\":\"histogram\",\"x\":[255.0],\"xaxis\":\"x\",\"yaxis\":\"y\"},{\"alignmentgroup\":\"True\",\"bingroup\":\"x\",\"hovertemplate\":\"English Name=Fish Fresh(Rahu)<br>Average Price (Rs.)=%{x}<br>count=%{y}<extra></extra>\",\"legendgroup\":\"Fish Fresh(Rahu)\",\"marker\":{\"color\":\"#FF6692\",\"pattern\":{\"shape\":\"\"}},\"name\":\"Fish Fresh(Rahu)\",\"offsetgroup\":\"Fish Fresh(Rahu)\",\"orientation\":\"v\",\"showlegend\":true,\"type\":\"histogram\",\"x\":[275.0],\"xaxis\":\"x\",\"yaxis\":\"y\"},{\"alignmentgroup\":\"True\",\"bingroup\":\"x\",\"hovertemplate\":\"English Name=French Bean(Hybrid)<br>Average Price (Rs.)=%{x}<br>count=%{y}<extra></extra>\",\"legendgroup\":\"French Bean(Hybrid)\",\"marker\":{\"color\":\"#B6E880\",\"pattern\":{\"shape\":\"\"}},\"name\":\"French Bean(Hybrid)\",\"offsetgroup\":\"French Bean(Hybrid)\",\"orientation\":\"v\",\"showlegend\":true,\"type\":\"histogram\",\"x\":[95.0],\"xaxis\":\"x\",\"yaxis\":\"y\"},{\"alignmentgroup\":\"True\",\"bingroup\":\"x\",\"hovertemplate\":\"English Name=French Bean(Local)<br>Average Price (Rs.)=%{x}<br>count=%{y}<extra></extra>\",\"legendgroup\":\"French Bean(Local)\",\"marker\":{\"color\":\"#FF97FF\",\"pattern\":{\"shape\":\"\"}},\"name\":\"French Bean(Local)\",\"offsetgroup\":\"French Bean(Local)\",\"orientation\":\"v\",\"showlegend\":true,\"type\":\"histogram\",\"x\":[95.0],\"xaxis\":\"x\",\"yaxis\":\"y\"},{\"alignmentgroup\":\"True\",\"bingroup\":\"x\",\"hovertemplate\":\"English Name=Garlic Dry Chinese<br>Average Price (Rs.)=%{x}<br>count=%{y}<extra></extra>\",\"legendgroup\":\"Garlic Dry Chinese\",\"marker\":{\"color\":\"#FECB52\",\"pattern\":{\"shape\":\"\"}},\"name\":\"Garlic Dry Chinese\",\"offsetgroup\":\"Garlic Dry Chinese\",\"orientation\":\"v\",\"showlegend\":true,\"type\":\"histogram\",\"x\":[200.0],\"xaxis\":\"x\",\"yaxis\":\"y\"},{\"alignmentgroup\":\"True\",\"bingroup\":\"x\",\"hovertemplate\":\"English Name=Garlic Dry Nepali<br>Average Price (Rs.)=%{x}<br>count=%{y}<extra></extra>\",\"legendgroup\":\"Garlic Dry Nepali\",\"marker\":{\"color\":\"#636efa\",\"pattern\":{\"shape\":\"\"}},\"name\":\"Garlic Dry Nepali\",\"offsetgroup\":\"Garlic Dry Nepali\",\"orientation\":\"v\",\"showlegend\":true,\"type\":\"histogram\",\"x\":[165.0],\"xaxis\":\"x\",\"yaxis\":\"y\"},{\"alignmentgroup\":\"True\",\"bingroup\":\"x\",\"hovertemplate\":\"English Name=Garlic Green<br>Average Price (Rs.)=%{x}<br>count=%{y}<extra></extra>\",\"legendgroup\":\"Garlic Green\",\"marker\":{\"color\":\"#EF553B\",\"pattern\":{\"shape\":\"\"}},\"name\":\"Garlic Green\",\"offsetgroup\":\"Garlic Green\",\"orientation\":\"v\",\"showlegend\":true,\"type\":\"histogram\",\"x\":[375.0],\"xaxis\":\"x\",\"yaxis\":\"y\"},{\"alignmentgroup\":\"True\",\"bingroup\":\"x\",\"hovertemplate\":\"English Name=Ginger<br>Average Price (Rs.)=%{x}<br>count=%{y}<extra></extra>\",\"legendgroup\":\"Ginger\",\"marker\":{\"color\":\"#00cc96\",\"pattern\":{\"shape\":\"\"}},\"name\":\"Ginger\",\"offsetgroup\":\"Ginger\",\"orientation\":\"v\",\"showlegend\":true,\"type\":\"histogram\",\"x\":[85.0],\"xaxis\":\"x\",\"yaxis\":\"y\"},{\"alignmentgroup\":\"True\",\"bingroup\":\"x\",\"hovertemplate\":\"English Name=Guava<br>Average Price (Rs.)=%{x}<br>count=%{y}<extra></extra>\",\"legendgroup\":\"Guava\",\"marker\":{\"color\":\"#ab63fa\",\"pattern\":{\"shape\":\"\"}},\"name\":\"Guava\",\"offsetgroup\":\"Guava\",\"orientation\":\"v\",\"showlegend\":true,\"type\":\"histogram\",\"x\":[110.0],\"xaxis\":\"x\",\"yaxis\":\"y\"},{\"alignmentgroup\":\"True\",\"bingroup\":\"x\",\"hovertemplate\":\"English Name=Gundruk<br>Average Price (Rs.)=%{x}<br>count=%{y}<extra></extra>\",\"legendgroup\":\"Gundruk\",\"marker\":{\"color\":\"#FFA15A\",\"pattern\":{\"shape\":\"\"}},\"name\":\"Gundruk\",\"offsetgroup\":\"Gundruk\",\"orientation\":\"v\",\"showlegend\":true,\"type\":\"histogram\",\"x\":[175.0],\"xaxis\":\"x\",\"yaxis\":\"y\"},{\"alignmentgroup\":\"True\",\"bingroup\":\"x\",\"hovertemplate\":\"English Name=Kiwi<br>Average Price (Rs.)=%{x}<br>count=%{y}<extra></extra>\",\"legendgroup\":\"Kiwi\",\"marker\":{\"color\":\"#19d3f3\",\"pattern\":{\"shape\":\"\"}},\"name\":\"Kiwi\",\"offsetgroup\":\"Kiwi\",\"orientation\":\"v\",\"showlegend\":true,\"type\":\"histogram\",\"x\":[550.0],\"xaxis\":\"x\",\"yaxis\":\"y\"},{\"alignmentgroup\":\"True\",\"bingroup\":\"x\",\"hovertemplate\":\"English Name=Lemon<br>Average Price (Rs.)=%{x}<br>count=%{y}<extra></extra>\",\"legendgroup\":\"Lemon\",\"marker\":{\"color\":\"#FF6692\",\"pattern\":{\"shape\":\"\"}},\"name\":\"Lemon\",\"offsetgroup\":\"Lemon\",\"orientation\":\"v\",\"showlegend\":true,\"type\":\"histogram\",\"x\":[55.0],\"xaxis\":\"x\",\"yaxis\":\"y\"},{\"alignmentgroup\":\"True\",\"bingroup\":\"x\",\"hovertemplate\":\"English Name=Lettuce<br>Average Price (Rs.)=%{x}<br>count=%{y}<extra></extra>\",\"legendgroup\":\"Lettuce\",\"marker\":{\"color\":\"#B6E880\",\"pattern\":{\"shape\":\"\"}},\"name\":\"Lettuce\",\"offsetgroup\":\"Lettuce\",\"orientation\":\"v\",\"showlegend\":true,\"type\":\"histogram\",\"x\":[325.0],\"xaxis\":\"x\",\"yaxis\":\"y\"},{\"alignmentgroup\":\"True\",\"bingroup\":\"x\",\"hovertemplate\":\"English Name=Lime<br>Average Price (Rs.)=%{x}<br>count=%{y}<extra></extra>\",\"legendgroup\":\"Lime\",\"marker\":{\"color\":\"#FF97FF\",\"pattern\":{\"shape\":\"\"}},\"name\":\"Lime\",\"offsetgroup\":\"Lime\",\"orientation\":\"v\",\"showlegend\":true,\"type\":\"histogram\",\"x\":[155.0],\"xaxis\":\"x\",\"yaxis\":\"y\"},{\"alignmentgroup\":\"True\",\"bingroup\":\"x\",\"hovertemplate\":\"English Name=Mombin<br>Average Price (Rs.)=%{x}<br>count=%{y}<extra></extra>\",\"legendgroup\":\"Mombin\",\"marker\":{\"color\":\"#FECB52\",\"pattern\":{\"shape\":\"\"}},\"name\":\"Mombin\",\"offsetgroup\":\"Mombin\",\"orientation\":\"v\",\"showlegend\":true,\"type\":\"histogram\",\"x\":[55.0],\"xaxis\":\"x\",\"yaxis\":\"y\"},{\"alignmentgroup\":\"True\",\"bingroup\":\"x\",\"hovertemplate\":\"English Name=Mushroom(Button)<br>Average Price (Rs.)=%{x}<br>count=%{y}<extra></extra>\",\"legendgroup\":\"Mushroom(Button)\",\"marker\":{\"color\":\"#636efa\",\"pattern\":{\"shape\":\"\"}},\"name\":\"Mushroom(Button)\",\"offsetgroup\":\"Mushroom(Button)\",\"orientation\":\"v\",\"showlegend\":true,\"type\":\"histogram\",\"x\":[425.0],\"xaxis\":\"x\",\"yaxis\":\"y\"},{\"alignmentgroup\":\"True\",\"bingroup\":\"x\",\"hovertemplate\":\"English Name=Mushroom(Kanya)<br>Average Price (Rs.)=%{x}<br>count=%{y}<extra></extra>\",\"legendgroup\":\"Mushroom(Kanya)\",\"marker\":{\"color\":\"#EF553B\",\"pattern\":{\"shape\":\"\"}},\"name\":\"Mushroom(Kanya)\",\"offsetgroup\":\"Mushroom(Kanya)\",\"orientation\":\"v\",\"showlegend\":true,\"type\":\"histogram\",\"x\":[235.0],\"xaxis\":\"x\",\"yaxis\":\"y\"},{\"alignmentgroup\":\"True\",\"bingroup\":\"x\",\"hovertemplate\":\"English Name=Mustard Leaf<br>Average Price (Rs.)=%{x}<br>count=%{y}<extra></extra>\",\"legendgroup\":\"Mustard Leaf\",\"marker\":{\"color\":\"#00cc96\",\"pattern\":{\"shape\":\"\"}},\"name\":\"Mustard Leaf\",\"offsetgroup\":\"Mustard Leaf\",\"orientation\":\"v\",\"showlegend\":true,\"type\":\"histogram\",\"x\":[85.0],\"xaxis\":\"x\",\"yaxis\":\"y\"},{\"alignmentgroup\":\"True\",\"bingroup\":\"x\",\"hovertemplate\":\"English Name=Neuro<br>Average Price (Rs.)=%{x}<br>count=%{y}<extra></extra>\",\"legendgroup\":\"Neuro\",\"marker\":{\"color\":\"#ab63fa\",\"pattern\":{\"shape\":\"\"}},\"name\":\"Neuro\",\"offsetgroup\":\"Neuro\",\"orientation\":\"v\",\"showlegend\":true,\"type\":\"histogram\",\"x\":[85.0],\"xaxis\":\"x\",\"yaxis\":\"y\"},{\"alignmentgroup\":\"True\",\"bingroup\":\"x\",\"hovertemplate\":\"English Name=Okara<br>Average Price (Rs.)=%{x}<br>count=%{y}<extra></extra>\",\"legendgroup\":\"Okara\",\"marker\":{\"color\":\"#FFA15A\",\"pattern\":{\"shape\":\"\"}},\"name\":\"Okara\",\"offsetgroup\":\"Okara\",\"orientation\":\"v\",\"showlegend\":true,\"type\":\"histogram\",\"x\":[55.0],\"xaxis\":\"x\",\"yaxis\":\"y\"},{\"alignmentgroup\":\"True\",\"bingroup\":\"x\",\"hovertemplate\":\"English Name=Onion Dry (Indian)<br>Average Price (Rs.)=%{x}<br>count=%{y}<extra></extra>\",\"legendgroup\":\"Onion Dry (Indian)\",\"marker\":{\"color\":\"#19d3f3\",\"pattern\":{\"shape\":\"\"}},\"name\":\"Onion Dry (Indian)\",\"offsetgroup\":\"Onion Dry (Indian)\",\"orientation\":\"v\",\"showlegend\":true,\"type\":\"histogram\",\"x\":[43.5],\"xaxis\":\"x\",\"yaxis\":\"y\"},{\"alignmentgroup\":\"True\",\"bingroup\":\"x\",\"hovertemplate\":\"English Name=Onion Green<br>Average Price (Rs.)=%{x}<br>count=%{y}<extra></extra>\",\"legendgroup\":\"Onion Green\",\"marker\":{\"color\":\"#FF6692\",\"pattern\":{\"shape\":\"\"}},\"name\":\"Onion Green\",\"offsetgroup\":\"Onion Green\",\"orientation\":\"v\",\"showlegend\":true,\"type\":\"histogram\",\"x\":[190.0],\"xaxis\":\"x\",\"yaxis\":\"y\"},{\"alignmentgroup\":\"True\",\"bingroup\":\"x\",\"hovertemplate\":\"English Name=Orange(Indian)<br>Average Price (Rs.)=%{x}<br>count=%{y}<extra></extra>\",\"legendgroup\":\"Orange(Indian)\",\"marker\":{\"color\":\"#B6E880\",\"pattern\":{\"shape\":\"\"}},\"name\":\"Orange(Indian)\",\"offsetgroup\":\"Orange(Indian)\",\"orientation\":\"v\",\"showlegend\":true,\"type\":\"histogram\",\"x\":[125.0],\"xaxis\":\"x\",\"yaxis\":\"y\"},{\"alignmentgroup\":\"True\",\"bingroup\":\"x\",\"hovertemplate\":\"English Name=Papaya(Indian)<br>Average Price (Rs.)=%{x}<br>count=%{y}<extra></extra>\",\"legendgroup\":\"Papaya(Indian)\",\"marker\":{\"color\":\"#FF97FF\",\"pattern\":{\"shape\":\"\"}},\"name\":\"Papaya(Indian)\",\"offsetgroup\":\"Papaya(Indian)\",\"orientation\":\"v\",\"showlegend\":true,\"type\":\"histogram\",\"x\":[75.0],\"xaxis\":\"x\",\"yaxis\":\"y\"},{\"alignmentgroup\":\"True\",\"bingroup\":\"x\",\"hovertemplate\":\"English Name=Pear(Chinese)<br>Average Price (Rs.)=%{x}<br>count=%{y}<extra></extra>\",\"legendgroup\":\"Pear(Chinese)\",\"marker\":{\"color\":\"#FECB52\",\"pattern\":{\"shape\":\"\"}},\"name\":\"Pear(Chinese)\",\"offsetgroup\":\"Pear(Chinese)\",\"orientation\":\"v\",\"showlegend\":true,\"type\":\"histogram\",\"x\":[195.0],\"xaxis\":\"x\",\"yaxis\":\"y\"},{\"alignmentgroup\":\"True\",\"bingroup\":\"x\",\"hovertemplate\":\"English Name=Pear(Local)<br>Average Price (Rs.)=%{x}<br>count=%{y}<extra></extra>\",\"legendgroup\":\"Pear(Local)\",\"marker\":{\"color\":\"#636efa\",\"pattern\":{\"shape\":\"\"}},\"name\":\"Pear(Local)\",\"offsetgroup\":\"Pear(Local)\",\"orientation\":\"v\",\"showlegend\":true,\"type\":\"histogram\",\"x\":[55.0],\"xaxis\":\"x\",\"yaxis\":\"y\"},{\"alignmentgroup\":\"True\",\"bingroup\":\"x\",\"hovertemplate\":\"English Name=Pineapple<br>Average Price (Rs.)=%{x}<br>count=%{y}<extra></extra>\",\"legendgroup\":\"Pineapple\",\"marker\":{\"color\":\"#EF553B\",\"pattern\":{\"shape\":\"\"}},\"name\":\"Pineapple\",\"offsetgroup\":\"Pineapple\",\"orientation\":\"v\",\"showlegend\":true,\"type\":\"histogram\",\"x\":[155.0],\"xaxis\":\"x\",\"yaxis\":\"y\"},{\"alignmentgroup\":\"True\",\"bingroup\":\"x\",\"hovertemplate\":\"English Name=Pointed Gourd(Local)<br>Average Price (Rs.)=%{x}<br>count=%{y}<extra></extra>\",\"legendgroup\":\"Pointed Gourd(Local)\",\"marker\":{\"color\":\"#00cc96\",\"pattern\":{\"shape\":\"\"}},\"name\":\"Pointed Gourd(Local)\",\"offsetgroup\":\"Pointed Gourd(Local)\",\"orientation\":\"v\",\"showlegend\":true,\"type\":\"histogram\",\"x\":[75.0],\"xaxis\":\"x\",\"yaxis\":\"y\"},{\"alignmentgroup\":\"True\",\"bingroup\":\"x\",\"hovertemplate\":\"English Name=Pointed Gourd(Terai)<br>Average Price (Rs.)=%{x}<br>count=%{y}<extra></extra>\",\"legendgroup\":\"Pointed Gourd(Terai)\",\"marker\":{\"color\":\"#ab63fa\",\"pattern\":{\"shape\":\"\"}},\"name\":\"Pointed Gourd(Terai)\",\"offsetgroup\":\"Pointed Gourd(Terai)\",\"orientation\":\"v\",\"showlegend\":true,\"type\":\"histogram\",\"x\":[75.0],\"xaxis\":\"x\",\"yaxis\":\"y\"},{\"alignmentgroup\":\"True\",\"bingroup\":\"x\",\"hovertemplate\":\"English Name=Pomegranate<br>Average Price (Rs.)=%{x}<br>count=%{y}<extra></extra>\",\"legendgroup\":\"Pomegranate\",\"marker\":{\"color\":\"#FFA15A\",\"pattern\":{\"shape\":\"\"}},\"name\":\"Pomegranate\",\"offsetgroup\":\"Pomegranate\",\"orientation\":\"v\",\"showlegend\":true,\"type\":\"histogram\",\"x\":[325.0],\"xaxis\":\"x\",\"yaxis\":\"y\"},{\"alignmentgroup\":\"True\",\"bingroup\":\"x\",\"hovertemplate\":\"English Name=Potato Red<br>Average Price (Rs.)=%{x}<br>count=%{y}<extra></extra>\",\"legendgroup\":\"Potato Red\",\"marker\":{\"color\":\"#19d3f3\",\"pattern\":{\"shape\":\"\"}},\"name\":\"Potato Red\",\"offsetgroup\":\"Potato Red\",\"orientation\":\"v\",\"showlegend\":true,\"type\":\"histogram\",\"x\":[57.0],\"xaxis\":\"x\",\"yaxis\":\"y\"},{\"alignmentgroup\":\"True\",\"bingroup\":\"x\",\"hovertemplate\":\"English Name=Potato Red(Indian)<br>Average Price (Rs.)=%{x}<br>count=%{y}<extra></extra>\",\"legendgroup\":\"Potato Red(Indian)\",\"marker\":{\"color\":\"#FF6692\",\"pattern\":{\"shape\":\"\"}},\"name\":\"Potato Red(Indian)\",\"offsetgroup\":\"Potato Red(Indian)\",\"orientation\":\"v\",\"showlegend\":true,\"type\":\"histogram\",\"x\":[27.0],\"xaxis\":\"x\",\"yaxis\":\"y\"},{\"alignmentgroup\":\"True\",\"bingroup\":\"x\",\"hovertemplate\":\"English Name=Potato Red(Mude)<br>Average Price (Rs.)=%{x}<br>count=%{y}<extra></extra>\",\"legendgroup\":\"Potato Red(Mude)\",\"marker\":{\"color\":\"#B6E880\",\"pattern\":{\"shape\":\"\"}},\"name\":\"Potato Red(Mude)\",\"offsetgroup\":\"Potato Red(Mude)\",\"orientation\":\"v\",\"showlegend\":true,\"type\":\"histogram\",\"x\":[49.0],\"xaxis\":\"x\",\"yaxis\":\"y\"},{\"alignmentgroup\":\"True\",\"bingroup\":\"x\",\"hovertemplate\":\"English Name=Potato White<br>Average Price (Rs.)=%{x}<br>count=%{y}<extra></extra>\",\"legendgroup\":\"Potato White\",\"marker\":{\"color\":\"#FF97FF\",\"pattern\":{\"shape\":\"\"}},\"name\":\"Potato White\",\"offsetgroup\":\"Potato White\",\"orientation\":\"v\",\"showlegend\":true,\"type\":\"histogram\",\"x\":[41.5],\"xaxis\":\"x\",\"yaxis\":\"y\"},{\"alignmentgroup\":\"True\",\"bingroup\":\"x\",\"hovertemplate\":\"English Name=Pumpkin<br>Average Price (Rs.)=%{x}<br>count=%{y}<extra></extra>\",\"legendgroup\":\"Pumpkin\",\"marker\":{\"color\":\"#FECB52\",\"pattern\":{\"shape\":\"\"}},\"name\":\"Pumpkin\",\"offsetgroup\":\"Pumpkin\",\"orientation\":\"v\",\"showlegend\":true,\"type\":\"histogram\",\"x\":[37.5],\"xaxis\":\"x\",\"yaxis\":\"y\"},{\"alignmentgroup\":\"True\",\"bingroup\":\"x\",\"hovertemplate\":\"English Name=Raddish Red<br>Average Price (Rs.)=%{x}<br>count=%{y}<extra></extra>\",\"legendgroup\":\"Raddish Red\",\"marker\":{\"color\":\"#636efa\",\"pattern\":{\"shape\":\"\"}},\"name\":\"Raddish Red\",\"offsetgroup\":\"Raddish Red\",\"orientation\":\"v\",\"showlegend\":true,\"type\":\"histogram\",\"x\":[45.0],\"xaxis\":\"x\",\"yaxis\":\"y\"},{\"alignmentgroup\":\"True\",\"bingroup\":\"x\",\"hovertemplate\":\"English Name=Raddish White(Hybrid)<br>Average Price (Rs.)=%{x}<br>count=%{y}<extra></extra>\",\"legendgroup\":\"Raddish White(Hybrid)\",\"marker\":{\"color\":\"#EF553B\",\"pattern\":{\"shape\":\"\"}},\"name\":\"Raddish White(Hybrid)\",\"offsetgroup\":\"Raddish White(Hybrid)\",\"orientation\":\"v\",\"showlegend\":true,\"type\":\"histogram\",\"x\":[27.5],\"xaxis\":\"x\",\"yaxis\":\"y\"},{\"alignmentgroup\":\"True\",\"bingroup\":\"x\",\"hovertemplate\":\"English Name=Raddish White(Local)<br>Average Price (Rs.)=%{x}<br>count=%{y}<extra></extra>\",\"legendgroup\":\"Raddish White(Local)\",\"marker\":{\"color\":\"#00cc96\",\"pattern\":{\"shape\":\"\"}},\"name\":\"Raddish White(Local)\",\"offsetgroup\":\"Raddish White(Local)\",\"orientation\":\"v\",\"showlegend\":true,\"type\":\"histogram\",\"x\":[22.5],\"xaxis\":\"x\",\"yaxis\":\"y\"},{\"alignmentgroup\":\"True\",\"bingroup\":\"x\",\"hovertemplate\":\"English Name=Red Cabbbage<br>Average Price (Rs.)=%{x}<br>count=%{y}<extra></extra>\",\"legendgroup\":\"Red Cabbbage\",\"marker\":{\"color\":\"#ab63fa\",\"pattern\":{\"shape\":\"\"}},\"name\":\"Red Cabbbage\",\"offsetgroup\":\"Red Cabbbage\",\"orientation\":\"v\",\"showlegend\":true,\"type\":\"histogram\",\"x\":[375.0],\"xaxis\":\"x\",\"yaxis\":\"y\"},{\"alignmentgroup\":\"True\",\"bingroup\":\"x\",\"hovertemplate\":\"English Name=Smooth Gourd<br>Average Price (Rs.)=%{x}<br>count=%{y}<extra></extra>\",\"legendgroup\":\"Smooth Gourd\",\"marker\":{\"color\":\"#FFA15A\",\"pattern\":{\"shape\":\"\"}},\"name\":\"Smooth Gourd\",\"offsetgroup\":\"Smooth Gourd\",\"orientation\":\"v\",\"showlegend\":true,\"type\":\"histogram\",\"x\":[55.0],\"xaxis\":\"x\",\"yaxis\":\"y\"},{\"alignmentgroup\":\"True\",\"bingroup\":\"x\",\"hovertemplate\":\"English Name=Snake Gourd<br>Average Price (Rs.)=%{x}<br>count=%{y}<extra></extra>\",\"legendgroup\":\"Snake Gourd\",\"marker\":{\"color\":\"#19d3f3\",\"pattern\":{\"shape\":\"\"}},\"name\":\"Snake Gourd\",\"offsetgroup\":\"Snake Gourd\",\"orientation\":\"v\",\"showlegend\":true,\"type\":\"histogram\",\"x\":[35.0],\"xaxis\":\"x\",\"yaxis\":\"y\"},{\"alignmentgroup\":\"True\",\"bingroup\":\"x\",\"hovertemplate\":\"English Name=Soyabean Green<br>Average Price (Rs.)=%{x}<br>count=%{y}<extra></extra>\",\"legendgroup\":\"Soyabean Green\",\"marker\":{\"color\":\"#FF6692\",\"pattern\":{\"shape\":\"\"}},\"name\":\"Soyabean Green\",\"offsetgroup\":\"Soyabean Green\",\"orientation\":\"v\",\"showlegend\":true,\"type\":\"histogram\",\"x\":[85.0],\"xaxis\":\"x\",\"yaxis\":\"y\"},{\"alignmentgroup\":\"True\",\"bingroup\":\"x\",\"hovertemplate\":\"English Name=Spinach Leaf<br>Average Price (Rs.)=%{x}<br>count=%{y}<extra></extra>\",\"legendgroup\":\"Spinach Leaf\",\"marker\":{\"color\":\"#B6E880\",\"pattern\":{\"shape\":\"\"}},\"name\":\"Spinach Leaf\",\"offsetgroup\":\"Spinach Leaf\",\"orientation\":\"v\",\"showlegend\":true,\"type\":\"histogram\",\"x\":[275.0],\"xaxis\":\"x\",\"yaxis\":\"y\"},{\"alignmentgroup\":\"True\",\"bingroup\":\"x\",\"hovertemplate\":\"English Name=Sponge Gourd<br>Average Price (Rs.)=%{x}<br>count=%{y}<extra></extra>\",\"legendgroup\":\"Sponge Gourd\",\"marker\":{\"color\":\"#FF97FF\",\"pattern\":{\"shape\":\"\"}},\"name\":\"Sponge Gourd\",\"offsetgroup\":\"Sponge Gourd\",\"orientation\":\"v\",\"showlegend\":true,\"type\":\"histogram\",\"x\":[65.0],\"xaxis\":\"x\",\"yaxis\":\"y\"},{\"alignmentgroup\":\"True\",\"bingroup\":\"x\",\"hovertemplate\":\"English Name=Squash(Round)<br>Average Price (Rs.)=%{x}<br>count=%{y}<extra></extra>\",\"legendgroup\":\"Squash(Round)\",\"marker\":{\"color\":\"#FECB52\",\"pattern\":{\"shape\":\"\"}},\"name\":\"Squash(Round)\",\"offsetgroup\":\"Squash(Round)\",\"orientation\":\"v\",\"showlegend\":true,\"type\":\"histogram\",\"x\":[45.0],\"xaxis\":\"x\",\"yaxis\":\"y\"},{\"alignmentgroup\":\"True\",\"bingroup\":\"x\",\"hovertemplate\":\"English Name=Sugarbeet<br>Average Price (Rs.)=%{x}<br>count=%{y}<extra></extra>\",\"legendgroup\":\"Sugarbeet\",\"marker\":{\"color\":\"#636efa\",\"pattern\":{\"shape\":\"\"}},\"name\":\"Sugarbeet\",\"offsetgroup\":\"Sugarbeet\",\"orientation\":\"v\",\"showlegend\":true,\"type\":\"histogram\",\"x\":[95.0],\"xaxis\":\"x\",\"yaxis\":\"y\"},{\"alignmentgroup\":\"True\",\"bingroup\":\"x\",\"hovertemplate\":\"English Name=Sweet Orange<br>Average Price (Rs.)=%{x}<br>count=%{y}<extra></extra>\",\"legendgroup\":\"Sweet Orange\",\"marker\":{\"color\":\"#EF553B\",\"pattern\":{\"shape\":\"\"}},\"name\":\"Sweet Orange\",\"offsetgroup\":\"Sweet Orange\",\"orientation\":\"v\",\"showlegend\":true,\"type\":\"histogram\",\"x\":[125.0],\"xaxis\":\"x\",\"yaxis\":\"y\"},{\"alignmentgroup\":\"True\",\"bingroup\":\"x\",\"hovertemplate\":\"English Name=Sword Bean<br>Average Price (Rs.)=%{x}<br>count=%{y}<extra></extra>\",\"legendgroup\":\"Sword Bean\",\"marker\":{\"color\":\"#00cc96\",\"pattern\":{\"shape\":\"\"}},\"name\":\"Sword Bean\",\"offsetgroup\":\"Sword Bean\",\"orientation\":\"v\",\"showlegend\":true,\"type\":\"histogram\",\"x\":[190.0],\"xaxis\":\"x\",\"yaxis\":\"y\"},{\"alignmentgroup\":\"True\",\"bingroup\":\"x\",\"hovertemplate\":\"English Name=Tamarind<br>Average Price (Rs.)=%{x}<br>count=%{y}<extra></extra>\",\"legendgroup\":\"Tamarind\",\"marker\":{\"color\":\"#ab63fa\",\"pattern\":{\"shape\":\"\"}},\"name\":\"Tamarind\",\"offsetgroup\":\"Tamarind\",\"orientation\":\"v\",\"showlegend\":true,\"type\":\"histogram\",\"x\":[145.0],\"xaxis\":\"x\",\"yaxis\":\"y\"},{\"alignmentgroup\":\"True\",\"bingroup\":\"x\",\"hovertemplate\":\"English Name=Tofu<br>Average Price (Rs.)=%{x}<br>count=%{y}<extra></extra>\",\"legendgroup\":\"Tofu\",\"marker\":{\"color\":\"#FFA15A\",\"pattern\":{\"shape\":\"\"}},\"name\":\"Tofu\",\"offsetgroup\":\"Tofu\",\"orientation\":\"v\",\"showlegend\":true,\"type\":\"histogram\",\"x\":[95.0],\"xaxis\":\"x\",\"yaxis\":\"y\"},{\"alignmentgroup\":\"True\",\"bingroup\":\"x\",\"hovertemplate\":\"English Name=Tomato Big(Indian)<br>Average Price (Rs.)=%{x}<br>count=%{y}<extra></extra>\",\"legendgroup\":\"Tomato Big(Indian)\",\"marker\":{\"color\":\"#19d3f3\",\"pattern\":{\"shape\":\"\"}},\"name\":\"Tomato Big(Indian)\",\"offsetgroup\":\"Tomato Big(Indian)\",\"orientation\":\"v\",\"showlegend\":true,\"type\":\"histogram\",\"x\":[55.0],\"xaxis\":\"x\",\"yaxis\":\"y\"},{\"alignmentgroup\":\"True\",\"bingroup\":\"x\",\"hovertemplate\":\"English Name=Tomato Small(Local)<br>Average Price (Rs.)=%{x}<br>count=%{y}<extra></extra>\",\"legendgroup\":\"Tomato Small(Local)\",\"marker\":{\"color\":\"#FF6692\",\"pattern\":{\"shape\":\"\"}},\"name\":\"Tomato Small(Local)\",\"offsetgroup\":\"Tomato Small(Local)\",\"orientation\":\"v\",\"showlegend\":true,\"type\":\"histogram\",\"x\":[12.5],\"xaxis\":\"x\",\"yaxis\":\"y\"},{\"alignmentgroup\":\"True\",\"bingroup\":\"x\",\"hovertemplate\":\"English Name=Tomato Small(Tunnel)<br>Average Price (Rs.)=%{x}<br>count=%{y}<extra></extra>\",\"legendgroup\":\"Tomato Small(Tunnel)\",\"marker\":{\"color\":\"#B6E880\",\"pattern\":{\"shape\":\"\"}},\"name\":\"Tomato Small(Tunnel)\",\"offsetgroup\":\"Tomato Small(Tunnel)\",\"orientation\":\"v\",\"showlegend\":true,\"type\":\"histogram\",\"x\":[17.5],\"xaxis\":\"x\",\"yaxis\":\"y\"},{\"alignmentgroup\":\"True\",\"bingroup\":\"x\",\"hovertemplate\":\"English Name=Turnip<br>Average Price (Rs.)=%{x}<br>count=%{y}<extra></extra>\",\"legendgroup\":\"Turnip\",\"marker\":{\"color\":\"#FF97FF\",\"pattern\":{\"shape\":\"\"}},\"name\":\"Turnip\",\"offsetgroup\":\"Turnip\",\"orientation\":\"v\",\"showlegend\":true,\"type\":\"histogram\",\"x\":[85.0],\"xaxis\":\"x\",\"yaxis\":\"y\"},{\"alignmentgroup\":\"True\",\"bingroup\":\"x\",\"hovertemplate\":\"English Name=Turnip A<br>Average Price (Rs.)=%{x}<br>count=%{y}<extra></extra>\",\"legendgroup\":\"Turnip A\",\"marker\":{\"color\":\"#FECB52\",\"pattern\":{\"shape\":\"\"}},\"name\":\"Turnip A\",\"offsetgroup\":\"Turnip A\",\"orientation\":\"v\",\"showlegend\":true,\"type\":\"histogram\",\"x\":[85.0],\"xaxis\":\"x\",\"yaxis\":\"y\"},{\"alignmentgroup\":\"True\",\"bingroup\":\"x\",\"hovertemplate\":\"English Name=Water Melon(Green)<br>Average Price (Rs.)=%{x}<br>count=%{y}<extra></extra>\",\"legendgroup\":\"Water Melon(Green)\",\"marker\":{\"color\":\"#636efa\",\"pattern\":{\"shape\":\"\"}},\"name\":\"Water Melon(Green)\",\"offsetgroup\":\"Water Melon(Green)\",\"orientation\":\"v\",\"showlegend\":true,\"type\":\"histogram\",\"x\":[45.0],\"xaxis\":\"x\",\"yaxis\":\"y\"}],                        {\"barmode\":\"relative\",\"legend\":{\"title\":{\"text\":\"English Name\"},\"tracegroupgap\":0},\"template\":{\"data\":{\"bar\":[{\"error_x\":{\"color\":\"#2a3f5f\"},\"error_y\":{\"color\":\"#2a3f5f\"},\"marker\":{\"line\":{\"color\":\"#E5ECF6\",\"width\":0.5},\"pattern\":{\"fillmode\":\"overlay\",\"size\":10,\"solidity\":0.2}},\"type\":\"bar\"}],\"barpolar\":[{\"marker\":{\"line\":{\"color\":\"#E5ECF6\",\"width\":0.5},\"pattern\":{\"fillmode\":\"overlay\",\"size\":10,\"solidity\":0.2}},\"type\":\"barpolar\"}],\"carpet\":[{\"aaxis\":{\"endlinecolor\":\"#2a3f5f\",\"gridcolor\":\"white\",\"linecolor\":\"white\",\"minorgridcolor\":\"white\",\"startlinecolor\":\"#2a3f5f\"},\"baxis\":{\"endlinecolor\":\"#2a3f5f\",\"gridcolor\":\"white\",\"linecolor\":\"white\",\"minorgridcolor\":\"white\",\"startlinecolor\":\"#2a3f5f\"},\"type\":\"carpet\"}],\"choropleth\":[{\"colorbar\":{\"outlinewidth\":0,\"ticks\":\"\"},\"type\":\"choropleth\"}],\"contour\":[{\"colorbar\":{\"outlinewidth\":0,\"ticks\":\"\"},\"colorscale\":[[0.0,\"#0d0887\"],[0.1111111111111111,\"#46039f\"],[0.2222222222222222,\"#7201a8\"],[0.3333333333333333,\"#9c179e\"],[0.4444444444444444,\"#bd3786\"],[0.5555555555555556,\"#d8576b\"],[0.6666666666666666,\"#ed7953\"],[0.7777777777777778,\"#fb9f3a\"],[0.8888888888888888,\"#fdca26\"],[1.0,\"#f0f921\"]],\"type\":\"contour\"}],\"contourcarpet\":[{\"colorbar\":{\"outlinewidth\":0,\"ticks\":\"\"},\"type\":\"contourcarpet\"}],\"heatmap\":[{\"colorbar\":{\"outlinewidth\":0,\"ticks\":\"\"},\"colorscale\":[[0.0,\"#0d0887\"],[0.1111111111111111,\"#46039f\"],[0.2222222222222222,\"#7201a8\"],[0.3333333333333333,\"#9c179e\"],[0.4444444444444444,\"#bd3786\"],[0.5555555555555556,\"#d8576b\"],[0.6666666666666666,\"#ed7953\"],[0.7777777777777778,\"#fb9f3a\"],[0.8888888888888888,\"#fdca26\"],[1.0,\"#f0f921\"]],\"type\":\"heatmap\"}],\"heatmapgl\":[{\"colorbar\":{\"outlinewidth\":0,\"ticks\":\"\"},\"colorscale\":[[0.0,\"#0d0887\"],[0.1111111111111111,\"#46039f\"],[0.2222222222222222,\"#7201a8\"],[0.3333333333333333,\"#9c179e\"],[0.4444444444444444,\"#bd3786\"],[0.5555555555555556,\"#d8576b\"],[0.6666666666666666,\"#ed7953\"],[0.7777777777777778,\"#fb9f3a\"],[0.8888888888888888,\"#fdca26\"],[1.0,\"#f0f921\"]],\"type\":\"heatmapgl\"}],\"histogram\":[{\"marker\":{\"pattern\":{\"fillmode\":\"overlay\",\"size\":10,\"solidity\":0.2}},\"type\":\"histogram\"}],\"histogram2d\":[{\"colorbar\":{\"outlinewidth\":0,\"ticks\":\"\"},\"colorscale\":[[0.0,\"#0d0887\"],[0.1111111111111111,\"#46039f\"],[0.2222222222222222,\"#7201a8\"],[0.3333333333333333,\"#9c179e\"],[0.4444444444444444,\"#bd3786\"],[0.5555555555555556,\"#d8576b\"],[0.6666666666666666,\"#ed7953\"],[0.7777777777777778,\"#fb9f3a\"],[0.8888888888888888,\"#fdca26\"],[1.0,\"#f0f921\"]],\"type\":\"histogram2d\"}],\"histogram2dcontour\":[{\"colorbar\":{\"outlinewidth\":0,\"ticks\":\"\"},\"colorscale\":[[0.0,\"#0d0887\"],[0.1111111111111111,\"#46039f\"],[0.2222222222222222,\"#7201a8\"],[0.3333333333333333,\"#9c179e\"],[0.4444444444444444,\"#bd3786\"],[0.5555555555555556,\"#d8576b\"],[0.6666666666666666,\"#ed7953\"],[0.7777777777777778,\"#fb9f3a\"],[0.8888888888888888,\"#fdca26\"],[1.0,\"#f0f921\"]],\"type\":\"histogram2dcontour\"}],\"mesh3d\":[{\"colorbar\":{\"outlinewidth\":0,\"ticks\":\"\"},\"type\":\"mesh3d\"}],\"parcoords\":[{\"line\":{\"colorbar\":{\"outlinewidth\":0,\"ticks\":\"\"}},\"type\":\"parcoords\"}],\"pie\":[{\"automargin\":true,\"type\":\"pie\"}],\"scatter\":[{\"marker\":{\"colorbar\":{\"outlinewidth\":0,\"ticks\":\"\"}},\"type\":\"scatter\"}],\"scatter3d\":[{\"line\":{\"colorbar\":{\"outlinewidth\":0,\"ticks\":\"\"}},\"marker\":{\"colorbar\":{\"outlinewidth\":0,\"ticks\":\"\"}},\"type\":\"scatter3d\"}],\"scattercarpet\":[{\"marker\":{\"colorbar\":{\"outlinewidth\":0,\"ticks\":\"\"}},\"type\":\"scattercarpet\"}],\"scattergeo\":[{\"marker\":{\"colorbar\":{\"outlinewidth\":0,\"ticks\":\"\"}},\"type\":\"scattergeo\"}],\"scattergl\":[{\"marker\":{\"colorbar\":{\"outlinewidth\":0,\"ticks\":\"\"}},\"type\":\"scattergl\"}],\"scattermapbox\":[{\"marker\":{\"colorbar\":{\"outlinewidth\":0,\"ticks\":\"\"}},\"type\":\"scattermapbox\"}],\"scatterpolar\":[{\"marker\":{\"colorbar\":{\"outlinewidth\":0,\"ticks\":\"\"}},\"type\":\"scatterpolar\"}],\"scatterpolargl\":[{\"marker\":{\"colorbar\":{\"outlinewidth\":0,\"ticks\":\"\"}},\"type\":\"scatterpolargl\"}],\"scatterternary\":[{\"marker\":{\"colorbar\":{\"outlinewidth\":0,\"ticks\":\"\"}},\"type\":\"scatterternary\"}],\"surface\":[{\"colorbar\":{\"outlinewidth\":0,\"ticks\":\"\"},\"colorscale\":[[0.0,\"#0d0887\"],[0.1111111111111111,\"#46039f\"],[0.2222222222222222,\"#7201a8\"],[0.3333333333333333,\"#9c179e\"],[0.4444444444444444,\"#bd3786\"],[0.5555555555555556,\"#d8576b\"],[0.6666666666666666,\"#ed7953\"],[0.7777777777777778,\"#fb9f3a\"],[0.8888888888888888,\"#fdca26\"],[1.0,\"#f0f921\"]],\"type\":\"surface\"}],\"table\":[{\"cells\":{\"fill\":{\"color\":\"#EBF0F8\"},\"line\":{\"color\":\"white\"}},\"header\":{\"fill\":{\"color\":\"#C8D4E3\"},\"line\":{\"color\":\"white\"}},\"type\":\"table\"}]},\"layout\":{\"annotationdefaults\":{\"arrowcolor\":\"#2a3f5f\",\"arrowhead\":0,\"arrowwidth\":1},\"autotypenumbers\":\"strict\",\"coloraxis\":{\"colorbar\":{\"outlinewidth\":0,\"ticks\":\"\"}},\"colorscale\":{\"diverging\":[[0,\"#8e0152\"],[0.1,\"#c51b7d\"],[0.2,\"#de77ae\"],[0.3,\"#f1b6da\"],[0.4,\"#fde0ef\"],[0.5,\"#f7f7f7\"],[0.6,\"#e6f5d0\"],[0.7,\"#b8e186\"],[0.8,\"#7fbc41\"],[0.9,\"#4d9221\"],[1,\"#276419\"]],\"sequential\":[[0.0,\"#0d0887\"],[0.1111111111111111,\"#46039f\"],[0.2222222222222222,\"#7201a8\"],[0.3333333333333333,\"#9c179e\"],[0.4444444444444444,\"#bd3786\"],[0.5555555555555556,\"#d8576b\"],[0.6666666666666666,\"#ed7953\"],[0.7777777777777778,\"#fb9f3a\"],[0.8888888888888888,\"#fdca26\"],[1.0,\"#f0f921\"]],\"sequentialminus\":[[0.0,\"#0d0887\"],[0.1111111111111111,\"#46039f\"],[0.2222222222222222,\"#7201a8\"],[0.3333333333333333,\"#9c179e\"],[0.4444444444444444,\"#bd3786\"],[0.5555555555555556,\"#d8576b\"],[0.6666666666666666,\"#ed7953\"],[0.7777777777777778,\"#fb9f3a\"],[0.8888888888888888,\"#fdca26\"],[1.0,\"#f0f921\"]]},\"colorway\":[\"#636efa\",\"#EF553B\",\"#00cc96\",\"#ab63fa\",\"#FFA15A\",\"#19d3f3\",\"#FF6692\",\"#B6E880\",\"#FF97FF\",\"#FECB52\"],\"font\":{\"color\":\"#2a3f5f\"},\"geo\":{\"bgcolor\":\"white\",\"lakecolor\":\"white\",\"landcolor\":\"#E5ECF6\",\"showlakes\":true,\"showland\":true,\"subunitcolor\":\"white\"},\"hoverlabel\":{\"align\":\"left\"},\"hovermode\":\"closest\",\"mapbox\":{\"style\":\"light\"},\"paper_bgcolor\":\"white\",\"plot_bgcolor\":\"#E5ECF6\",\"polar\":{\"angularaxis\":{\"gridcolor\":\"white\",\"linecolor\":\"white\",\"ticks\":\"\"},\"bgcolor\":\"#E5ECF6\",\"radialaxis\":{\"gridcolor\":\"white\",\"linecolor\":\"white\",\"ticks\":\"\"}},\"scene\":{\"xaxis\":{\"backgroundcolor\":\"#E5ECF6\",\"gridcolor\":\"white\",\"gridwidth\":2,\"linecolor\":\"white\",\"showbackground\":true,\"ticks\":\"\",\"zerolinecolor\":\"white\"},\"yaxis\":{\"backgroundcolor\":\"#E5ECF6\",\"gridcolor\":\"white\",\"gridwidth\":2,\"linecolor\":\"white\",\"showbackground\":true,\"ticks\":\"\",\"zerolinecolor\":\"white\"},\"zaxis\":{\"backgroundcolor\":\"#E5ECF6\",\"gridcolor\":\"white\",\"gridwidth\":2,\"linecolor\":\"white\",\"showbackground\":true,\"ticks\":\"\",\"zerolinecolor\":\"white\"}},\"shapedefaults\":{\"line\":{\"color\":\"#2a3f5f\"}},\"ternary\":{\"aaxis\":{\"gridcolor\":\"white\",\"linecolor\":\"white\",\"ticks\":\"\"},\"baxis\":{\"gridcolor\":\"white\",\"linecolor\":\"white\",\"ticks\":\"\"},\"bgcolor\":\"#E5ECF6\",\"caxis\":{\"gridcolor\":\"white\",\"linecolor\":\"white\",\"ticks\":\"\"}},\"title\":{\"x\":0.05},\"xaxis\":{\"automargin\":true,\"gridcolor\":\"white\",\"linecolor\":\"white\",\"ticks\":\"\",\"title\":{\"standoff\":15},\"zerolinecolor\":\"white\",\"zerolinewidth\":2},\"yaxis\":{\"automargin\":true,\"gridcolor\":\"white\",\"linecolor\":\"white\",\"ticks\":\"\",\"title\":{\"standoff\":15},\"zerolinecolor\":\"white\",\"zerolinewidth\":2}}},\"title\":{\"text\":\"Prices compared to Average Kamilati Price\"},\"xaxis\":{\"anchor\":\"y\",\"domain\":[0.0,1.0],\"title\":{\"text\":\"Average Price (Rs.)\"}},\"yaxis\":{\"anchor\":\"x\",\"domain\":[0.0,1.0],\"title\":{\"text\":\"count\"}}},                        {\"responsive\": true}                    ).then(function(){\n",
       "                            \n",
       "var gd = document.getElementById('4618f164-bcc8-4f7d-b089-f5c5f710e6e5');\n",
       "var x = new MutationObserver(function (mutations, observer) {{\n",
       "        var display = window.getComputedStyle(gd).display;\n",
       "        if (!display || display === 'none') {{\n",
       "            console.log([gd, 'removed!']);\n",
       "            Plotly.purge(gd);\n",
       "            observer.disconnect();\n",
       "        }}\n",
       "}});\n",
       "\n",
       "// Listen for the removal of the full notebook cells\n",
       "var notebookContainer = gd.closest('#notebook-container');\n",
       "if (notebookContainer) {{\n",
       "    x.observe(notebookContainer, {childList: true});\n",
       "}}\n",
       "\n",
       "// Listen for the clearing of the current output cell\n",
       "var outputEl = gd.closest('.output');\n",
       "if (outputEl) {{\n",
       "    x.observe(outputEl, {childList: true});\n",
       "}}\n",
       "\n",
       "                        })                };                });            </script>        </div>"
      ]
     },
     "metadata": {},
     "output_type": "display_data"
    }
   ],
   "source": [
    "import pandas as pd\n",
    "from pandas.core.indexes.base import Index\n",
    "import matplotlib\n",
    "from tabulate import tabulate\n",
    "import os\n",
    "import datetime\n",
    "from xlsxwriter import Workbook\n",
    "import seaborn as sns\n",
    "import matplotlib.pyplot as plt\n",
    "import plotly.express as px\n",
    "\n",
    "#location of all essential csv files\n",
    "home = '/Users/birajaryal/virtual_workspace/vegetables'\n",
    "os.chdir(home)\n",
    "print(home)\n",
    "os.chdir('daily')\n",
    "today = datetime.date.today().strftime(\"%Y-%m-%d\")\n",
    "yesterday = (datetime.date.today() - datetime.timedelta(1)).strftime(\"%Y-%m-%d\")\n",
    "today_file = f'kalimati_{today}.csv'\n",
    "yesterday_file = f'kalimati_{yesterday}.csv'\n",
    "today_df = pd.read_csv(today_file)\n",
    "yesterday_df = pd.read_csv(yesterday_file)\n",
    "\n",
    "# removing nepali name column from the dataframe: ADD THIS COLUMN LATER along with others below when needed\n",
    "nepali_name = list(today_df['Nepali Name'])\n",
    "maximum = list(today_df['Maximum Price (Rs.)'])  \n",
    "minimum = list(today_df['Minimum Price (Rs.)']) \n",
    "# del today_df['Nepali Name']\n",
    "del today_df['Minimum Price (Rs.)']\n",
    "del today_df['Maximum Price (Rs.)']\n",
    "\n",
    "yesterday_nepali_name = list(yesterday_df['Nepali Name'])\n",
    "yesterday_maximum = list(yesterday_df['Maximum Price (Rs.)'])  \n",
    "yesterday_minimum = list(yesterday_df['Minimum Price (Rs.)']) \n",
    "del yesterday_df['Nepali Name']\n",
    "del yesterday_df['Minimum Price (Rs.)']\n",
    "del yesterday_df['Maximum Price (Rs.)']\n",
    "\n",
    "\n",
    "# Total Number of vegetables today\n",
    "vegetable_count = today_df.shape[0]\n",
    "\n",
    "# Average Price of vegetables/fruits per kg/Pc/Doz [Avergae Kalimati Price]---VISUALIZATION REMAINING\n",
    "today_df['Average Kalimati Price (Rs.)'] = today_df['Average Price (Rs.)'].mean() # plot a single graph of this comparing with the one below\n",
    "yesterday_df['Average Kalimati Price (Rs.)'] = yesterday_df['Average Price (Rs.)'].mean() # plot a single graph of this comparing with the one above\n",
    "\n",
    "\n",
    "                                        # PART 1: Intraday\n",
    "# Relatively Cheap\n",
    "below_avg_price = today_df['Average Price (Rs.)'] < today_df['Average Kalimati Price (Rs.)']\n",
    "cheap_df = today_df[below_avg_price].sort_values('Average Price (Rs.)')\n",
    "cheap_df['Less than Average Kalimati Price by (Rs.)'] = round(cheap_df['Average Kalimati Price (Rs.)'] - cheap_df['Average Price (Rs.)'], 2)\n",
    "del cheap_df['Average Kalimati Price (Rs.)']\n",
    "# print(cheap_df)\n",
    "\n",
    "\n",
    "# Relatviely Expensive\n",
    "above_avg_price = today_df['Average Price (Rs.)'] > today_df['Average Kalimati Price (Rs.)']\n",
    "expensive_df = today_df[above_avg_price].sort_values('Average Price (Rs.)', ascending=False)\n",
    "expensive_df['More than Average Kalimati Price by (Rs.)'] = round(expensive_df['Average Price (Rs.)'] - expensive_df['Average Kalimati Price (Rs.)'], 2)\n",
    "del expensive_df['Average Kalimati Price (Rs.)']\n",
    "# print(expensive_df)\n",
    "\n",
    "\n",
    "                                    # PART 2: Interday\n",
    "with_yesterday_df = pd.merge(today_df, yesterday_df, on='English Name')\n",
    "del with_yesterday_df['Unit_x']\n",
    "del with_yesterday_df['Unit_y']\n",
    "with_yesterday_df['Change in Average Price (Rs.)'] = with_yesterday_df['Average Price (Rs.)_x'] - with_yesterday_df['Average Price (Rs.)_y']\n",
    "with_yesterday_df['Change in Average Price (%)'] =  round(with_yesterday_df['Change in Average Price (Rs.)']/with_yesterday_df['Average Price (Rs.)_y'] * 100, 2)\n",
    "del with_yesterday_df['Average Kalimati Price (Rs.)_x']\n",
    "del with_yesterday_df['Average Kalimati Price (Rs.)_y']\n",
    "\n",
    "\n",
    "# All Positive Change in Price\n",
    "positive_change = with_yesterday_df['Average Price (Rs.)_x'] > with_yesterday_df['Average Price (Rs.)_y']\n",
    "top_positive_change = with_yesterday_df[positive_change].sort_values('Change in Average Price (%)', ascending=False)\n",
    "top_positive_change = top_positive_change.rename(columns={'Average Price (Rs.)_x': \"Average Price (Rs.)\"})\n",
    "del top_positive_change['Average Price (Rs.)_y']\n",
    "# print(top_positive_change)\n",
    "\n",
    "\n",
    "# All Negative Change in Price\n",
    "negative_change = with_yesterday_df['Average Price (Rs.)_x'] < with_yesterday_df['Average Price (Rs.)_y']\n",
    "top_negative_change = with_yesterday_df[negative_change].sort_values('Change in Average Price (%)')\n",
    "top_negative_change = top_negative_change.rename(columns={'Average Price (Rs.)_x': \"Average Price (Rs.)\"})\n",
    "del top_negative_change['Average Price (Rs.)_y']\n",
    "# print(top_negative_change)\n",
    "\n",
    "\n",
    "# Change in Average kalimati Price - - CONSOLE ONLY\n",
    "change_in_avg_kalimati_price = today_df['Average Price (Rs.)'].mean() - yesterday_df['Average Price (Rs.)'].mean()\n",
    "percent_change = change_in_avg_kalimati_price.item()/yesterday_df['Average Price (Rs.)'].mean()*100\n",
    "print(\"Today's Average Kalimati Price is Rs.\", round(today_df['Average Price (Rs.)'].mean(), 2))\n",
    "print(\"Last day's Average Kalimati Price was Rs.\",round(yesterday_df['Average Price (Rs.)'].mean(), 2))\n",
    "if change_in_avg_kalimati_price.item() < 0:  # although not needed here, .item() converts numpy type to python type\n",
    "    print('Average kalimati Price decreased by Rs.', str(round(change_in_avg_kalimati_price, 2)))\n",
    "    print(\"Average kalimati Price decreased by: \", str(round(percent_change,2)), '%')\n",
    "elif change_in_avg_kalimati_price.item() > 0:  # although not needed here, .item() converts numpy type to python type\n",
    "    print('Average kalimati Price increased by Rs.', str(round(change_in_avg_kalimati_price, 2)))\n",
    "    print(\"Average kalimati Price increased by:\", str(round(percent_change,2)), '%')\n",
    "\n",
    "# plt.figure(figsize=(12,6))\n",
    "# plt.title('Prices compared to Average Kamilati Price')\n",
    "# sns.scatterplot('Average Kalimati Price (Rs.)',\n",
    "#                'Average Price (Rs.)',\n",
    "#                 hue='English Name',\n",
    "#                data=today_df);\n",
    "\n",
    "fig = px.histogram(today_df, x=\"Average Price (Rs.)\", color='English Name',\n",
    "                title='Prices compared to Average Kamilati Price')\n",
    "fig.show()\n",
    "\n",
    "\n",
    "# Test Plot\n",
    "# print(tabulate(today_df, headers='keys', tablefmt='psql'))"
   ]
  },
  {
   "cell_type": "code",
   "execution_count": null,
   "id": "4a27d8af",
   "metadata": {},
   "outputs": [],
   "source": []
  },
  {
   "cell_type": "code",
   "execution_count": null,
   "id": "e59c6cbc",
   "metadata": {},
   "outputs": [],
   "source": []
  },
  {
   "cell_type": "code",
   "execution_count": null,
   "id": "42be6180",
   "metadata": {},
   "outputs": [],
   "source": []
  },
  {
   "cell_type": "code",
   "execution_count": 16,
   "id": "baa5195c",
   "metadata": {},
   "outputs": [],
   "source": []
  },
  {
   "cell_type": "code",
   "execution_count": 17,
   "id": "d34616cc",
   "metadata": {},
   "outputs": [],
   "source": []
  },
  {
   "cell_type": "code",
   "execution_count": 18,
   "id": "5695a0a2",
   "metadata": {
    "collapsed": true
   },
   "outputs": [
    {
     "data": {
      "text/plain": [
       "<AxesSubplot:>"
      ]
     },
     "execution_count": 18,
     "metadata": {},
     "output_type": "execute_result"
    },
    {
     "data": {
      "image/png": "[encoded data removed]",
      "text/plain": [
       "<Figure size 432x288 with 1 Axes>"
      ]
     },
     "metadata": {
      "needs_background": "light"
     },
     "output_type": "display_data"
    }
   ],
   "source": []
  },
  {
   "cell_type": "code",
   "execution_count": null,
   "id": "64432591",
   "metadata": {},
   "outputs": [],
   "source": []
  },
  {
   "cell_type": "code",
   "execution_count": null,
   "id": "b74cfd3a",
   "metadata": {},
   "outputs": [],
   "source": []
  },
  {
   "cell_type": "code",
   "execution_count": null,
   "id": "63d84bd1",
   "metadata": {},
   "outputs": [],
   "source": []
  }
 ],
 "metadata": {
  "kernelspec": {
   "display_name": "Python 3 (ipykernel)",
   "language": "python",
   "name": "python3"
  },
  "language_info": {
   "codemirror_mode": {
    "name": "ipython",
    "version": 3
   },
   "file_extension": ".py",
   "mimetype": "text/x-python",
   "name": "python",
   "nbconvert_exporter": "python",
   "pygments_lexer": "ipython3",
   "version": "3.8.12"
  }
 },
 "nbformat": 4,
 "nbformat_minor": 5
}
